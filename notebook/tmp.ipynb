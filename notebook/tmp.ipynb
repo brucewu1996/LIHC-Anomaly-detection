{
 "cells": [
  {
   "cell_type": "code",
   "execution_count": 1,
   "metadata": {},
   "outputs": [],
   "source": [
    "import numpy as np\n",
    "import pandas as pd\n",
    "import re,os\n",
    "import matplotlib.pyplot as plt\n",
    "import seaborn as sns\n",
    "from sklearn.preprocessing import StandardScaler\n",
    "import pickle"
   ]
  },
  {
   "cell_type": "code",
   "execution_count": 2,
   "metadata": {},
   "outputs": [],
   "source": [
    "vote = pd.read_csv(\"/home/bruce1996/data/LIHC_anomaly_detection/manuscript/material/ensemble_learning_result/ensemble_hbv_only_np_ratio_35_vote_result.txt\",sep='\\t',index_col=0)\n"
   ]
  },
  {
   "cell_type": "code",
   "execution_count": 3,
   "metadata": {},
   "outputs": [
    {
     "data": {
      "text/html": [
       "<div>\n",
       "<style scoped>\n",
       "    .dataframe tbody tr th:only-of-type {\n",
       "        vertical-align: middle;\n",
       "    }\n",
       "\n",
       "    .dataframe tbody tr th {\n",
       "        vertical-align: top;\n",
       "    }\n",
       "\n",
       "    .dataframe thead th {\n",
       "        text-align: right;\n",
       "    }\n",
       "</style>\n",
       "<table border=\"1\" class=\"dataframe\">\n",
       "  <thead>\n",
       "    <tr style=\"text-align: right;\">\n",
       "      <th></th>\n",
       "      <th>Vote</th>\n",
       "      <th>Label</th>\n",
       "      <th>HGSC symbol</th>\n",
       "    </tr>\n",
       "  </thead>\n",
       "  <tbody>\n",
       "    <tr>\n",
       "      <th>ENSG00000069849</th>\n",
       "      <td>0.0</td>\n",
       "      <td>non-hallmark gene</td>\n",
       "      <td>ATP1B3</td>\n",
       "    </tr>\n",
       "    <tr>\n",
       "      <th>ENSG00000131746</th>\n",
       "      <td>0.0</td>\n",
       "      <td>non-hallmark gene</td>\n",
       "      <td>TNS4</td>\n",
       "    </tr>\n",
       "    <tr>\n",
       "      <th>ENSG00000141027</th>\n",
       "      <td>0.0</td>\n",
       "      <td>non-hallmark gene</td>\n",
       "      <td>NCOR1</td>\n",
       "    </tr>\n",
       "    <tr>\n",
       "      <th>ENSG00000164587</th>\n",
       "      <td>0.0</td>\n",
       "      <td>non-hallmark gene</td>\n",
       "      <td>RPS14</td>\n",
       "    </tr>\n",
       "    <tr>\n",
       "      <th>ENSG00000122417</th>\n",
       "      <td>0.0</td>\n",
       "      <td>non-hallmark gene</td>\n",
       "      <td>ODF2L</td>\n",
       "    </tr>\n",
       "    <tr>\n",
       "      <th>...</th>\n",
       "      <td>...</td>\n",
       "      <td>...</td>\n",
       "      <td>...</td>\n",
       "    </tr>\n",
       "    <tr>\n",
       "      <th>ENSG00000152689</th>\n",
       "      <td>0.0</td>\n",
       "      <td>non-hallmark gene</td>\n",
       "      <td>RASGRP3</td>\n",
       "    </tr>\n",
       "    <tr>\n",
       "      <th>ENSG00000161677</th>\n",
       "      <td>0.0</td>\n",
       "      <td>non-hallmark gene</td>\n",
       "      <td>JOSD2</td>\n",
       "    </tr>\n",
       "    <tr>\n",
       "      <th>ENSG00000139192</th>\n",
       "      <td>60.0</td>\n",
       "      <td>non-hallmark gene</td>\n",
       "      <td>TAPBPL</td>\n",
       "    </tr>\n",
       "    <tr>\n",
       "      <th>ENSG00000131480</th>\n",
       "      <td>0.0</td>\n",
       "      <td>non-hallmark gene</td>\n",
       "      <td>AOC2</td>\n",
       "    </tr>\n",
       "    <tr>\n",
       "      <th>ENSG00000171861</th>\n",
       "      <td>0.0</td>\n",
       "      <td>non-hallmark gene</td>\n",
       "      <td>MRM3</td>\n",
       "    </tr>\n",
       "  </tbody>\n",
       "</table>\n",
       "<p>19567 rows × 3 columns</p>\n",
       "</div>"
      ],
      "text/plain": [
       "                 Vote              Label HGSC symbol\n",
       "ENSG00000069849   0.0  non-hallmark gene      ATP1B3\n",
       "ENSG00000131746   0.0  non-hallmark gene        TNS4\n",
       "ENSG00000141027   0.0  non-hallmark gene       NCOR1\n",
       "ENSG00000164587   0.0  non-hallmark gene       RPS14\n",
       "ENSG00000122417   0.0  non-hallmark gene       ODF2L\n",
       "...               ...                ...         ...\n",
       "ENSG00000152689   0.0  non-hallmark gene     RASGRP3\n",
       "ENSG00000161677   0.0  non-hallmark gene       JOSD2\n",
       "ENSG00000139192  60.0  non-hallmark gene      TAPBPL\n",
       "ENSG00000131480   0.0  non-hallmark gene        AOC2\n",
       "ENSG00000171861   0.0  non-hallmark gene        MRM3\n",
       "\n",
       "[19567 rows x 3 columns]"
      ]
     },
     "execution_count": 3,
     "metadata": {},
     "output_type": "execute_result"
    }
   ],
   "source": [
    "vote"
   ]
  },
  {
   "cell_type": "code",
   "execution_count": 2,
   "metadata": {},
   "outputs": [],
   "source": [
    "metadata = pd.read_csv(\"/home/bruce1996/data/LIHC_anomaly_detection/data/sample_info/processed_metadata.txt\",sep='\\t',index_col=0)\n",
    "exp_m = pd.read_csv(\"/home/bruce1996/data/LIHC_anomaly_detection/data/exp_profile/LIHC_coding_gene_fpkm.txt\",sep='\\t',index_col=0)"
   ]
  },
  {
   "cell_type": "code",
   "execution_count": 7,
   "metadata": {},
   "outputs": [],
   "source": [
    "hbv_positive = list(metadata.index[np.where(metadata['HBV'] == 'Positive')])"
   ]
  },
  {
   "cell_type": "code",
   "execution_count": 16,
   "metadata": {},
   "outputs": [],
   "source": [
    "df = pd.DataFrame({'Tumor' : ['Tumor' if \"_n\" not in x else \"Normal\" for x in exp_m.columns],\n",
    "                    'HBV' : ['Positive' if x in hbv_positive else 'Negative' for x in [x[:4] for x in exp_m.columns]]},index=exp_m.columns)"
   ]
  },
  {
   "cell_type": "code",
   "execution_count": 13,
   "metadata": {},
   "outputs": [],
   "source": [
    "sample = df.loc[df.Tumor == 'Tumor',].index\n",
    "exp_m.loc[:,sample].to_csv(\"/home/bruce1996/repo/LIHC_anomaly_detection/deseq_result/tcga-lihc-tumor-fpkm.txt\",sep='\\t')\n",
    "df.loc[sample,:].to_csv(\"/home/bruce1996/repo/LIHC_anomaly_detection/deseq_result/tcga-lihc-tumor-metadata.txt\",sep='\\t')"
   ]
  },
  {
   "cell_type": "code",
   "execution_count": 26,
   "metadata": {},
   "outputs": [],
   "source": [
    "exp_tmp = pd.read_csv(\"/home/bruce1996/repo/LIHC_anomaly_detection/deseq_result/tcga-lihc-tumor-fpkm.txt\",sep='\\t',index_col=0)\n",
    "tmp = pd.read_csv(\"/home/bruce1996/repo/LIHC_anomaly_detection/deseq_result/tcga-lihc-tumor-metadata.txt\",sep='\\t',index_col=0)"
   ]
  }
 ],
 "metadata": {
  "kernelspec": {
   "display_name": "base",
   "language": "python",
   "name": "python3"
  },
  "language_info": {
   "codemirror_mode": {
    "name": "ipython",
    "version": 3
   },
   "file_extension": ".py",
   "mimetype": "text/x-python",
   "name": "python",
   "nbconvert_exporter": "python",
   "pygments_lexer": "ipython3",
   "version": "3.9.7"
  }
 },
 "nbformat": 4,
 "nbformat_minor": 2
}
