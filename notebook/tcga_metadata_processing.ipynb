{
 "cells": [
  {
   "cell_type": "code",
   "execution_count": 1,
   "metadata": {},
   "outputs": [],
   "source": [
    "import numpy as np\n",
    "import pandas as pd"
   ]
  },
  {
   "cell_type": "code",
   "execution_count": 2,
   "metadata": {},
   "outputs": [],
   "source": [
    "metadata = pd.read_csv(\"/home/bruce1996/data/LIHC_anomaly_detection/data/sample_info/nationwidechildrens.org_clinical_patient_lihc.txt\",sep='\\t')"
   ]
  },
  {
   "cell_type": "code",
   "execution_count": 50,
   "metadata": {},
   "outputs": [],
   "source": [
    "candidate_metadata  = ['patient_id','age_at_diagnosis','gender','vital_status','viral_hepatitis_serology','history_hepato_carcinoma_risk_factors',\n",
    "                        'tumor_grade','ajcc_tumor_pathologic_pt','ajcc_nodes_pathologic_pn','ajcc_metastasis_pathologic_pm','ajcc_pathologic_tumor_stage',\n",
    "                        'death_days_to','last_contact_days_to','new_tumor_event_dx_indicator']"
   ]
  },
  {
   "cell_type": "code",
   "execution_count": 51,
   "metadata": {},
   "outputs": [],
   "source": [
    "df = metadata.loc[:,candidate_metadata]\n",
    "df = df.iloc[2:,:]\n",
    "df.index = df.patient_id"
   ]
  },
  {
   "cell_type": "markdown",
   "metadata": {},
   "source": [
    "### HCC risk factor & virus serology one hot encoding"
   ]
  },
  {
   "cell_type": "code",
   "execution_count": 52,
   "metadata": {},
   "outputs": [],
   "source": [
    "def one_hot_encoding(target) :\n",
    "    \"\"\"_summary_\n",
    "    Args:\n",
    "        df (df.series): the column of dataframe will be ont hot encoding.\n",
    "    Returns:\n",
    "        ont_hot_df (df.dataframe) : data frame after one hot encoding.\n",
    "    \"\"\"    \n",
    "    condition = set()\n",
    "    for element in target.values :\n",
    "        if element == '[Unknown]' or element == '[Not Available]' :\n",
    "            continue\n",
    "        for con in element.split('|') :\n",
    "            if con not in condition :\n",
    "                condition.add(con)\n",
    "    sample_idx = target.index\n",
    "    one_hot_df = pd.DataFrame(np.zeros([len(target),len(condition)],dtype=np.ubyte),index=sample_idx,columns=[target.name + '_' + x for x in list(condition)])\n",
    "    for idx,element in enumerate(target.values) :\n",
    "        for con in condition :\n",
    "            if con in element :\n",
    "                col = target.name + '_' + con\n",
    "                one_hot_df.loc[sample_idx[idx],col] = 1\n",
    "    return one_hot_df"
   ]
  },
  {
   "cell_type": "code",
   "execution_count": 53,
   "metadata": {},
   "outputs": [],
   "source": [
    "hbv_one_hot = one_hot_encoding(df.viral_hepatitis_serology)\n",
    "hcc_one_hot = one_hot_encoding(df.history_hepato_carcinoma_risk_factors)\n",
    "hcc_one_hot.drop(['history_hepato_carcinoma_risk_factors_Alpha-1 Antitrypsin Deficiency','history_hepato_carcinoma_risk_factors_Hemochromatosis',\n",
    "'history_hepato_carcinoma_risk_factors_Other'],axis=1,inplace=True)\n",
    "df = pd.concat([df,hbv_one_hot,hcc_one_hot],axis=1)\n",
    "df['HBV'] = np.where(df['viral_hepatitis_serology_Hepatitis B Surface Antigen'] == 1,'Positive','Negative')"
   ]
  },
  {
   "cell_type": "markdown",
   "metadata": {},
   "source": [
    "### convert stage symbol"
   ]
  },
  {
   "cell_type": "code",
   "execution_count": 54,
   "metadata": {},
   "outputs": [],
   "source": [
    "stage_d = {\n",
    "    'Stage I' : 'Stage I',\n",
    "    'Stage II' : 'Stage II',\n",
    "    'Stage III' : 'Stage III',\n",
    "    'Stage IIIA' : 'Stage III',\n",
    "    'Stage IIIB' : 'Stage III',\n",
    "    'Stage IIIC' : 'Stage III',\n",
    "    'Stage IV' : 'Stage IV',\n",
    "    'Stage IVA' : 'Stage IV',\n",
    "    'Stage IVB' : 'Stage IV',\n",
    "    '[Discrepancy]' : '[Not Available]',\n",
    "    '[Not Available]' : '[Not Available]'\n",
    "}\n",
    "df['ajcc_pathologic_tumor_stage'].replace(stage_d,inplace=True)"
   ]
  },
  {
   "cell_type": "markdown",
   "metadata": {},
   "source": [
    "### Processing survival information"
   ]
  },
  {
   "cell_type": "code",
   "execution_count": 55,
   "metadata": {},
   "outputs": [
    {
     "name": "stdout",
     "output_type": "stream",
     "text": [
      "Patient A95S not death and censored!\n"
     ]
    }
   ],
   "source": [
    "survival_days = []\n",
    "for idx,death in enumerate(df.death_days_to.values) :\n",
    "    followup = df.last_contact_days_to.values[idx]\n",
    "    if followup == '[Not Available]' and death == '[Not Applicable]' :\n",
    "        print(\"Patient %s not death and censored!\"% df.index[idx])\n",
    "        survival_days.append('[Not Available]')\n",
    "        continue\n",
    "    elif followup != '[Not Available]' and death != '[Not Applicable]' :\n",
    "        print(\"Patient %s is death or censored!\"% df.index[idx])\n",
    "    if followup == '[Not Available]' :\n",
    "        survival_days.append(int(death))\n",
    "    elif death == '[Not Applicable]' :\n",
    "        survival_days.append(int(followup))\n",
    "\n",
    "df['Survival_days'] = survival_days"
   ]
  },
  {
   "cell_type": "code",
   "execution_count": 56,
   "metadata": {},
   "outputs": [],
   "source": [
    "col_order = ['patient_id', 'age_at_diagnosis', 'gender', 'vital_status','Survival_days',\n",
    "       'HBV','viral_hepatitis_serology', 'history_hepato_carcinoma_risk_factors',\n",
    "       'tumor_grade', 'ajcc_tumor_pathologic_pt', 'ajcc_nodes_pathologic_pn',\n",
    "       'ajcc_metastasis_pathologic_pm', 'ajcc_pathologic_tumor_stage','new_tumor_event_dx_indicator',\n",
    "       'death_days_to', 'last_contact_days_to',\n",
    "       'viral_hepatitis_serology_HBV Surface Antibody',\n",
    "       'viral_hepatitis_serology_HBV DNA',\n",
    "       'viral_hepatitis_serology_Hepatitis C Virus RNA',\n",
    "       'viral_hepatitis_serology_Hepatitis B Surface Antigen',\n",
    "       'viral_hepatitis_serology_HBV Core Antibody',\n",
    "       'viral_hepatitis_serology_Hepatitis  C Antibody',\n",
    "       'viral_hepatitis_serology_HCV Genotype',\n",
    "       'history_hepato_carcinoma_risk_factors_Alcohol consumption',\n",
    "       'history_hepato_carcinoma_risk_factors_No History of Primary Risk Factors',\n",
    "       'history_hepato_carcinoma_risk_factors_Non-Alcoholic Fatty Liver Disease',\n",
    "       'history_hepato_carcinoma_risk_factors_Hepatitis C',\n",
    "       'history_hepato_carcinoma_risk_factors_Hepatitis B']\n",
    "df = df.loc[:,col_order]"
   ]
  },
  {
   "cell_type": "code",
   "execution_count": 58,
   "metadata": {},
   "outputs": [],
   "source": [
    "df.to_csv(\"/home/bruce1996/data/LIHC_anomaly_detection/data/sample_info/processed_metadata.txt\",sep='\\t')"
   ]
  },
  {
   "cell_type": "code",
   "execution_count": null,
   "metadata": {},
   "outputs": [],
   "source": []
  }
 ],
 "metadata": {
  "kernelspec": {
   "display_name": "base",
   "language": "python",
   "name": "python3"
  },
  "language_info": {
   "codemirror_mode": {
    "name": "ipython",
    "version": 3
   },
   "file_extension": ".py",
   "mimetype": "text/x-python",
   "name": "python",
   "nbconvert_exporter": "python",
   "pygments_lexer": "ipython3",
   "version": "3.9.7"
  }
 },
 "nbformat": 4,
 "nbformat_minor": 2
}
