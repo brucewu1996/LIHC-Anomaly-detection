{
 "cells": [
  {
   "cell_type": "code",
   "execution_count": 40,
   "metadata": {},
   "outputs": [],
   "source": [
    "import pandas as pd \n",
    "import numpy as np\n",
    "import pickle\n",
    "from sklearn.preprocessing import StandardScaler"
   ]
  },
  {
   "cell_type": "code",
   "execution_count": 41,
   "metadata": {},
   "outputs": [],
   "source": [
    "repo_dir = '/home/bruce1996/repo/LIHC_anomaly_detection/'\n",
    "exp_m = pd.read_csv(repo_dir + \"data/TCGA-LIHC-exp-matrix-and-metadata/TCGA-LIHC-coding-gene-fpkm.txt\",sep='\\t',index_col=0)\n",
    "metadata = pd.read_csv(repo_dir+ \"data/TCGA-LIHC-exp-matrix-and-metadata/TCGA-LIHC-processed_metadata.txt\",sep='\\t',index_col=0)\n",
    "module_summary = pd.read_excel(repo_dir + \"data/Functional-module-information/Summary_table_of_GRN_FunModu.xlsx\",sheet_name='hbv_only_35')\n",
    "with open(repo_dir + 'data/Coding-gene-information/ensembl2hgnc.pkl','rb') as f :\n",
    "    ens2hgsc = pickle.load(f)\n",
    "f.close()"
   ]
  },
  {
   "cell_type": "code",
   "execution_count": 51,
   "metadata": {},
   "outputs": [],
   "source": [
    "# Standardization\n",
    "samples = set(exp_m.columns).intersection(metadata.index)\n",
    "scaler = StandardScaler()\n",
    "std_x = scaler.fit_transform(exp_m.loc[:,samples].T.to_numpy())\n",
    "std_m = pd.DataFrame(std_x.T,index=exp_m.index,columns=samples)\n",
    "metadata = metadata.loc[samples]"
   ]
  },
  {
   "cell_type": "code",
   "execution_count": 59,
   "metadata": {},
   "outputs": [],
   "source": [
    "#processing the survival information into 5-years survival\n",
    "metadata['Survival_days'] = [int(x) for x in metadata['Survival_days']]\n",
    "survival_time_limit = 365*5 + 1# 5 years survival\n",
    "for idx in range(metadata.shape[0]) :\n",
    "    survival_time = metadata['Survival_days'][idx]\n",
    "    survival_status = metadata['vital_status'][idx]\n",
    "    # Event occur after the 5 years\n",
    "    if survival_time > survival_time_limit and survival_status == 'Dead' :\n",
    "        metadata['Survival_days'][idx] = survival_time_limit\n",
    "        metadata.loc[metadata.index[idx],'vital_status'] = 'Alive'\n",
    "    # Change censored patient survival time into the time limit (5 years)\n",
    "    if survival_time > survival_time_limit and survival_status == 'Alive' :\n",
    "        metadata['Survival_days'][idx] = survival_time_limit\n",
    "metadata.rename(columns={'Survival_days' : 'Survival_day','vital_status' : 'Status'},inplace=True)"
   ]
  },
  {
   "cell_type": "code",
   "execution_count": 63,
   "metadata": {},
   "outputs": [],
   "source": [
    "def edge2node(edge_list) :\n",
    "    node_list = set()\n",
    "    for edge in edge_list :\n",
    "        node1,node2 = edge.split(' ')\n",
    "        if node1 not in node_list :\n",
    "            node_list.add(node1)\n",
    "        if node2 not in node_list :\n",
    "            node_list.add(node2)\n",
    "    return list(node_list)"
   ]
  },
  {
   "cell_type": "code",
   "execution_count": 64,
   "metadata": {},
   "outputs": [],
   "source": [
    "survival_data_output_path = \"/home/bruce1996/repo/LIHC_anomaly_detection/data/test_survival/\"\n",
    "for go_idx,go in enumerate(module_summary.GOID) :\n",
    "    description = module_summary.Description[go_idx]\n",
    "    edge_list = module_summary.loc[go_idx,'Edges'].split('_')\n",
    "    module_gene_list = edge2node(edge_list)\n",
    "    module_exp_m = std_m.loc[module_gene_list,:]\n",
    "    module_exp_m.index = [ens2hgsc[x] for x in module_exp_m.index]\n",
    "    module_survival_input = pd.concat([metadata.loc[samples,:],module_exp_m.T],axis=1)\n",
    "    module_survival_input.to_csv(survival_data_output_path + \"%s_%s.txt\" % (go,description.replace(' ','_')),sep='\\t')"
   ]
  },
  {
   "cell_type": "code",
   "execution_count": null,
   "metadata": {},
   "outputs": [],
   "source": []
  }
 ],
 "metadata": {
  "kernelspec": {
   "display_name": "base",
   "language": "python",
   "name": "python3"
  },
  "language_info": {
   "codemirror_mode": {
    "name": "ipython",
    "version": 3
   },
   "file_extension": ".py",
   "mimetype": "text/x-python",
   "name": "python",
   "nbconvert_exporter": "python",
   "pygments_lexer": "ipython3",
   "version": "3.9.7"
  }
 },
 "nbformat": 4,
 "nbformat_minor": 2
}
