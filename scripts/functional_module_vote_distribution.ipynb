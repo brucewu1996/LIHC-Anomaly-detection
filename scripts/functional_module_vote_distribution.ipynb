{
 "cells": [
  {
   "cell_type": "code",
   "execution_count": 1,
   "metadata": {},
   "outputs": [],
   "source": [
    "import numpy as np\n",
    "import pandas as pd\n",
    "import os,re\n",
    "import matplotlib.pyplot as plt\n",
    "import seaborn as sns"
   ]
  },
  {
   "cell_type": "code",
   "execution_count": 2,
   "metadata": {},
   "outputs": [],
   "source": [
    "class function_module :\n",
    "    def __init__(self,summary_dataframe,sheet_list,protein_network) :\n",
    "        self.summary : pd.io.excel._base.ExcelFile = summary_dataframe # type: ignore\n",
    "        self.condition : list = sheet_list\n",
    "        self.check_sheet_name()\n",
    "        self.protein_network : str = protein_network\n",
    "        \n",
    "    def check_sheet_name(self) :\n",
    "        for c in self.condition :\n",
    "            if c not in self.summary.sheet_names :\n",
    "                raise ValueError(\"Sheet name : %s not exist in given excel file\" % c) \n",
    "    \n",
    "    def functional_module_goinfo(self) :\n",
    "        go_info = dict()\n",
    "        for condition in self.condition :\n",
    "            go_info[condition] = {}\n",
    "            df = self.summary.parse(condition)\n",
    "            df.index = df['GOID']\n",
    "            for go in df.index :\n",
    "                go_info[condition][go] = (df.loc[go,'Description'],df.loc[go,'#Nodes'])\n",
    "        return go_info\n",
    "    \n",
    "    def edge2node(self,edge_context) :\n",
    "        '''\n",
    "        edge_list : str, like 'ENSG00000115415 ENSG00000138496_ENSG00000115415 ENSG00000168961_ENSG00000115415, underline as seperator\n",
    "        '''\n",
    "        edge_l = edge_context.split('_')\n",
    "        node_l = set(list(map(lambda x : x.split(' ')[0],edge_l)) + list(map(lambda x : x.split(' ')[1],edge_l)))\n",
    "        return list(node_l)\n",
    "    \n",
    "    def extract_expression_profile_of_module(self,summary_table,go_id,expression_profile):\n",
    "        # expression_profile , row is gene (ensID) column is sample\n",
    "        e = summary_table.loc[go_id,'Edges']\n",
    "        gene_list = self.edge2node(e)\n",
    "        return expression_profile.loc[set(gene_list).intersection(expression_profile.index),:]   \n"
   ]
  },
  {
   "cell_type": "code",
   "execution_count": 44,
   "metadata": {},
   "outputs": [],
   "source": [
    "def vote_distribution(module,vote_result,prefix,output_path) :\n",
    "    for condition in module.condition :\n",
    "        df = module.summary.parse(condition)\n",
    "        df.index = df['GOID']\n",
    "        vote_df = pd.DataFrame()\n",
    "        for go in df.index :\n",
    "            gene_list = df.loc[go,'Nodes'].split('_')\n",
    "            vote = vote_result.loc[gene_list,'Vote']\n",
    "            result = pd.DataFrame({'Gene' : gene_list,'GO' : [go] * len(gene_list),'Vote' : vote})\n",
    "            vote_df = pd.concat([vote_df,result])\n",
    "        vote_df.to_csv(output_path + '%s_funModu_vote_result_%s.txt' % (prefix,condition),sep='\\t')\n",
    "\n",
    "def plot_vote_distribution(vote_result,module_df,prefix,output_path,output_format='pdf') :\n",
    "    \"\"\"\n",
    "    Functional module vote distribution boxplot.\n",
    "    Args:\n",
    "        vote_result (pd.DataFrame): The vote number result, index is gene name, the Vote column is vote number of each gene.\n",
    "        module_df (pd.DataFrame): The functional module summary.\n",
    "        prefix (str): The prefix of boxplot.\n",
    "        output_path (str): The output path of boxplot.\n",
    "    \"\"\"    \n",
    "    go_info = {}\n",
    "    vote_df = pd.DataFrame()\n",
    "    module_df.index = module_df['GOID']\n",
    "    vote_median = []\n",
    "    for go in module_df.index :\n",
    "        go_info[go] = (module_df.loc[go,'Description'],module_df.loc[go,'#Nodes'])\n",
    "        gene_list = module_df.loc[go,'Nodes'].split('_')\n",
    "        vote = vote_result.loc[gene_list,'Vote']\n",
    "        vote_median.append(np.median(vote))\n",
    "        result = pd.DataFrame({'Gene' : gene_list,'GO' : [go] * len(gene_list),'Vote' : vote})\n",
    "        vote_df = pd.concat([vote_df,result])\n",
    "    vote_median_df = pd.DataFrame({'Vote_median' : vote_median},index=module_df.index)\n",
    "    go_order= vote_median_df.sort_values(by='Vote_median',ascending=False).index\n",
    "        \n",
    "    plt.figure(figsize=(8,7))\n",
    "    ax = sns.boxplot(data=vote_df,x='Vote',y='GO',order=go_order,palette='Set3')\n",
    "    label = [x.get_text() for x in ax.get_yticklabels()]\n",
    "    description = [go_info[x][0] for x in label]\n",
    "    ax.set_yticklabels(description)\n",
    "    plt.savefig(output_path + \"%s_funModu_vote_result.%s\" % (prefix,output_format),dpi = 300,bbox_inches='tight')\n"
   ]
  },
  {
   "cell_type": "code",
   "execution_count": 46,
   "metadata": {},
   "outputs": [],
   "source": [
    "repo_dir = '/home/bruce1996/repo/LIHC_anomaly_detection/'\n",
    "ppi = 'GRN'\n",
    "sheet_name = 'hbv_only_35'\n",
    "\n",
    "module_df = pd.read_excel(repo_dir + \"data/Functional-module-information/Summary_table_of_%s_FunModu.xlsx\" % ppi,sheet_name=sheet_name)\n",
    "exp_m = pd.read_csv(repo_dir + \"data/Ensemble-learning-training-data/lihc_coding_gene_std_by_gene_%s_with_synthetic.txt\" % 'hbv_only',sep='\\t',index_col=0)\n",
    "vote_result = pd.DataFrame({'Vote' : np.load(repo_dir + \"data/Ensemble-leanring-result/with_synthetic/hbv_only_std_by_gene/hbv_only_std_by_gene_vote_np_ratio_35.npy\")},index = exp_m.index)"
   ]
  },
  {
   "cell_type": "code",
   "execution_count": 47,
   "metadata": {},
   "outputs": [
    {
     "data": {
      "image/png": "[encoded data removed]",
      "text/plain": [
       "<Figure size 576x504 with 1 Axes>"
      ]
     },
     "metadata": {
      "needs_background": "light"
     },
     "output_type": "display_data"
    }
   ],
   "source": [
    "fig_output_path = repo_dir + 'result/functional_module_vote_distribution_boxplot/'\n",
    "plot_vote_distribution(vote_result=vote_result,module_df=module_df,prefix='%s_%s' % (ppi,sheet_name),output_path=fig_output_path)"
   ]
  },
  {
   "cell_type": "code",
   "execution_count": null,
   "metadata": {},
   "outputs": [],
   "source": []
  }
 ],
 "metadata": {
  "kernelspec": {
   "display_name": "base",
   "language": "python",
   "name": "python3"
  },
  "language_info": {
   "codemirror_mode": {
    "name": "ipython",
    "version": 3
   },
   "file_extension": ".py",
   "mimetype": "text/x-python",
   "name": "python",
   "nbconvert_exporter": "python",
   "pygments_lexer": "ipython3",
   "version": "3.9.7"
  }
 },
 "nbformat": 4,
 "nbformat_minor": 2
}
