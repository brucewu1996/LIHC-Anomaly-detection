{
 "cells": [
  {
   "cell_type": "code",
   "execution_count": 1,
   "metadata": {},
   "outputs": [],
   "source": [
    "import numpy as np\n",
    "import pandas as pd\n",
    "import networkx as nx\n",
    "from scipy import sparse\n",
    "import time\n",
    "import pickle\n",
    "import json\n",
    "import os"
   ]
  },
  {
   "cell_type": "code",
   "execution_count": 6,
   "metadata": {},
   "outputs": [],
   "source": [
    "test_file = '/home/bruce1996/data/LIHC_anomaly_detection/ensemble_training/lihc_protein_coding_gene_std_exp_profile.txt'\n",
    "exp_profile = pd.read_csv(test_file,sep='\\t',index_col = 0)\n",
    "gene_list = list(exp_profile.index)\n",
    "biomart = pd.read_csv(\"/home/bruce1996/data/LIHC_anomaly_detection/data/exp_profile/biomart_protein_coding_gene.txt\",sep='\\t')\n",
    "#import go graph\n",
    "graph_d = dict()\n",
    "graph_path = '/home/bruce1996/data/GO/networkx/'\n",
    "go_field = ['biological_process','cellular_component','molecular_function']\n",
    "for field in go_field :\n",
    "    file = graph_path + field + '.go'\n",
    "    with open(file , 'rb') as f:  # notice the r instead of w\n",
    "        graph_d[field] = pickle.load(f)\n",
    "        f.close()\n",
    "\n",
    "with open(\"/home/bruce1996/data/GO/go2namespace.json\",'rb') as f :\n",
    "    go2namespace = json.load(f)\n",
    "    f.close()"
   ]
  },
  {
   "cell_type": "code",
   "execution_count": 19,
   "metadata": {},
   "outputs": [],
   "source": [
    "import seaborn as sns \n",
    "import matplotlib.pyplot as plt\n",
    "\n",
    "corr_m = exp_profile.T.corr(method='spearman')\n",
    "cmap = sns.diverging_palette(0, 230, 90, 60, as_cmap=True)\n",
    "plot_df = corr_m.stack().reset_index()\n",
    "plot_df.columns = ['Row','Column','Value']\n",
    "# plot heatmap\n",
    "sns.clustermap(plot_df,cmap=cmap, vmin=-1, vmax=1,  cbar_kws={\"shrink\": .8},pivot_kws={'index': plot_df.columns[0],\n",
    "                                    'columns': plot_df.columns[1], \n",
    "                                  'values': plot_df.columns[2]})\n",
    "plt.savefig('/home/bruce1996/data/LIHC_anomaly_detection/fig/lihc_gene2gene_scc.png')"
   ]
  },
  {
   "cell_type": "code",
   "execution_count": 6,
   "metadata": {},
   "outputs": [],
   "source": [
    "experiment_evidence_code = ['EXP','IDA','IPI','IMP','IGI','IEP','HTP','HDA','HMP','HGI','HEP']\n",
    "idx = [x in experiment_evidence_code for x in biomart['GO term evidence code']]\n",
    "biomart = biomart.loc[idx,:]"
   ]
  },
  {
   "cell_type": "code",
   "execution_count": 7,
   "metadata": {},
   "outputs": [],
   "source": [
    "from validation_edge import create_gene2go_matrix\n",
    "\n",
    "gene2go_matrix,goindex = create_gene2go_matrix(biomart,exp_profile,graph_d,threads = 10)\n",
    "index2go = np.array(list(goindex.keys()))\n",
    "gene2go_matrix = gene2go_matrix.tocsc()"
   ]
  },
  {
   "cell_type": "markdown",
   "metadata": {},
   "source": [
    "Number of GO with validated evidence code : 12515"
   ]
  },
  {
   "cell_type": "markdown",
   "metadata": {},
   "source": [
    "### remove GO by GO level"
   ]
  },
  {
   "cell_type": "code",
   "execution_count": 9,
   "metadata": {},
   "outputs": [],
   "source": [
    "def get_go_level(go,go2namespace,graph_dict) :\n",
    "    if go not in go2namespace.keys() :\n",
    "        return -1\n",
    "    field = go2namespace[go]\n",
    "    root = graph_dict[field]\n",
    "    return root.nodes[go]['Level']"
   ]
  },
  {
   "cell_type": "code",
   "execution_count": 10,
   "metadata": {},
   "outputs": [],
   "source": [
    "threshold = 5 \n",
    "go_level = np.zeros(gene2go_matrix.shape[1])\n",
    "for idx,go in enumerate(index2go) :\n",
    "    go_level[idx] = get_go_level(go,go2namespace,graph_d)\n",
    "\n",
    "idx = np.where(go_level >= threshold,1,0)\n",
    "D = sparse.diags(idx, dtype=gene2go_matrix.dtype)\n",
    "gene2go_matrix_level = gene2go_matrix * D\n",
    "index2go[idx] = 'NA'"
   ]
  },
  {
   "cell_type": "markdown",
   "metadata": {},
   "source": [
    "Number of GO term level >= 5 : 8406"
   ]
  },
  {
   "cell_type": "code",
   "execution_count": 40,
   "metadata": {},
   "outputs": [],
   "source": [
    "def create_go2gene_dict(gene2go_matrix,gene_list,go_list) :\n",
    "    go2gene_dict = dict()\n",
    "    for i in range(gene2go_matrix.shape[1]) :\n",
    "        if gene2go_matrix[:,i].count_nonzero() > 0 :\n",
    "            gene_idx = gene2go_matrix.nonzero()[0]\n",
    "            go2gene_dict[go_list[i]] = gene_list[gene_idx]\n",
    "        else :\n",
    "            pass\n",
    "    return go2gene_dict"
   ]
  },
  {
   "cell_type": "code",
   "execution_count": 41,
   "metadata": {},
   "outputs": [],
   "source": [
    "gene_list = np.array(exp_profile.index)\n",
    "go2gene_dict = create_go2gene_dict(gene2go_matrix_level,gene_list,index2go)"
   ]
  },
  {
   "cell_type": "code",
   "execution_count": 46,
   "metadata": {},
   "outputs": [],
   "source": [
    "import pickle\n",
    "with open('/home/bruce1996/data/LIHC_anomaly_detection/functional_profiling/candidate_functional_module/go2gene_dict.pkl','wb') as f :\n",
    "    pickle.dump(go2gene_dict,f)\n",
    "f.close()"
   ]
  },
  {
   "cell_type": "markdown",
   "metadata": {},
   "source": [
    "### gene-based GO fisher exact test"
   ]
  },
  {
   "cell_type": "code",
   "execution_count": 17,
   "metadata": {},
   "outputs": [],
   "source": [
    "from scipy import sparse\n",
    "from scipy.stats import fisher_exact\n",
    "from math import comb\n",
    "\n",
    "def gene_based_fisher_exact_test(gene2go_matrix,vote_result,go_index) :\n",
    "    '''\n",
    "    gene2go_matrix : scipy sparse matrx (csc of dok), row is gene , column is GO\n",
    "    vote_result : scipy csc matrix\n",
    "    '''\n",
    "    matrix = gene2go_matrix.getcol(go_index)\n",
    "    if matrix.count_nonzero() == 0 :\n",
    "        p = 999\n",
    "        return p\n",
    "    intersection,_ = matrix.nonzero()\n",
    "    vote,_ = vote_result.nonzero()\n",
    "    g1 = len(np.intersect1d(intersection,vote))\n",
    "    g2 = len(intersection) - g1\n",
    "    g3 = len(vote) - g1\n",
    "    g4 = gene2go_matrix.shape[0] - len(intersection - g3)\n",
    "\n",
    "    fisher_table = np.array([[g1,g2],[g3,g4]])\n",
    "    try :\n",
    "        oddsr, p = fisher_exact(fisher_table, alternative='two-sided')\n",
    "    except ValueError :\n",
    "        print(\"Error occur in fisher exact test stage !\")\n",
    "        p = 999\n",
    "\n",
    "    return p"
   ]
  },
  {
   "cell_type": "code",
   "execution_count": 18,
   "metadata": {},
   "outputs": [],
   "source": [
    "vote = pd.read_csv('/home/bruce1996/data/LIHC_anomaly_detection/ensemble_result/lihc_ensemble_learning_gene_vote.txt',sep='\\t',index_col=0)\n",
    "vote = vote.loc[exp_profile.index,:]\n",
    "vote_m = vote.to_numpy()\n",
    "vote_csc = sparse.csc_matrix(vote_m)\n",
    "vote_csc.eliminate_zeros()"
   ]
  },
  {
   "cell_type": "code",
   "execution_count": null,
   "metadata": {},
   "outputs": [],
   "source": [
    "n = gene2go_matrix.shape[1]\n",
    "gene_fisher_pv = np.zeros(n)\n",
    "s = time.time()\n",
    "for i in range(n) :\n",
    "    gene_fisher_pv[i] = gene_based_fisher_exact_test(gene2go_matrix_level,vote_csc,i)\n",
    "    if i % 1000 == 0 :\n",
    "        print('Number of %d GO fisher exact test is processed !' % i)\n",
    "e = time.time()\n",
    "delta = e -s\n",
    "print(\"Execution time of gene based fisher exact test is %0.2f\" % delta)\n",
    "\n",
    "idx = np.where(gene_fisher_pv < 0.05,1,0)\n",
    "D = sparse.diags(idx, dtype=gene2go_matrix_level.dtype)\n",
    "gene2go_matrix_pass_gene = gene2go_matrix_level * D"
   ]
  },
  {
   "cell_type": "markdown",
   "metadata": {},
   "source": [
    "Number of GO pass gene-based fisher exact test : 986"
   ]
  },
  {
   "cell_type": "markdown",
   "metadata": {},
   "source": [
    "### pesudo code of edge-based fisher exact test"
   ]
  },
  {
   "cell_type": "code",
   "execution_count": 22,
   "metadata": {},
   "outputs": [],
   "source": [
    "from scipy import sparse\n",
    "from scipy.stats import fisher_exact\n",
    "from math import comb\n",
    "\n",
    "def corr_2_sparse_matrix(corr_matrix,threshold=0.4) :\n",
    "    corr_matrix = np.tril(corr_matrix)\n",
    "    idx = corr_matrix >= threshold\n",
    "    corr_matrix[~idx] = 0\n",
    "    np.fill_diagonal(corr_matrix,0)\n",
    "    corr_csc = sparse.csc_matrix(corr_matrix)\n",
    "    corr_csc.eliminate_zeros()\n",
    "    return corr_csc\n",
    "\n",
    "def sum_csc_matrix(matrix,index) :\n",
    "    tmp = matrix[:,index]\n",
    "    tmp = tmp.tocsr()\n",
    "    nonzero = 0\n",
    "    for i in index :\n",
    "        nonzero +=  tmp.getrow(i).count_nonzero()\n",
    "    del tmp\n",
    "    return nonzero\n",
    "\n",
    "def edge_fisher_exact_test(gene2go_matrix,corr_matrix,go_index) :\n",
    "    \n",
    "    matrix = gene2go_matrix.getcol(go_index)\n",
    "    if matrix.count_nonzero() == 0 :\n",
    "        p = 999 \n",
    "        return p\n",
    "    else :\n",
    "        #GO involved gene set\n",
    "        gene_idx,_ = matrix.nonzero()\n",
    "        num_gene_involved = len(gene_idx)\n",
    "        m = corr_matrix[gene_idx][:,gene_idx]\n",
    "        e1 = m.count_nonzero()\n",
    "        #e1 = sum_csc_matrix(corr_matrix,gene_idx)\n",
    "        #e1 + e2\n",
    "        total_intersection = comb(num_gene_involved,2)\n",
    "        e2 = total_intersection - e1\n",
    "        ### GO with intersection\n",
    "        #e1 + e3\n",
    "        total_corr = corr_matrix.count_nonzero()\n",
    "        e3 = total_corr - e1\n",
    "        n_gene = corr_matrix.shape[0]\n",
    "        e4 = comb(n_gene,2) - comb(num_gene_involved,2) - e3\n",
    "\n",
    "        fisher_table = np.array([[e1,e2],[e3,e4]])\n",
    "        try :\n",
    "            oddsr, p = fisher_exact(fisher_table, alternative='two-sided')\n",
    "        except ValueError :\n",
    "            print(\"Error occur in fisher exact test stage !\")\n",
    "            p = 999\n",
    "\n",
    "        return p"
   ]
  },
  {
   "cell_type": "code",
   "execution_count": null,
   "metadata": {},
   "outputs": [],
   "source": [
    "corr_csc = sparse.load_npz('/home/bruce1996/data/LIHC_anomaly_detection/functional_profiling/corr_csc_matrix.npz')\n",
    "n = gene2go_matrix_pass_gene.shape[1]\n",
    "edge_fisher_pv = np.zeros(n)\n",
    "s = time.time()\n",
    "for i in range(n) :\n",
    "    edge_fisher_pv[i] = edge_fisher_exact_test(gene2go_matrix_pass_gene,corr_csc,i)\n",
    "    if i % 1000 == 0 :\n",
    "        print('Number of %d GO fisher exact test is processed !' % i)\n",
    "e = time.time()\n",
    "delta = e -s\n",
    "print(\"Execution time of gene based fisher exact test is %0.2f\" % delta)\n",
    "\n",
    "idx = np.where(edge_fisher_pv < 0.05,1,0)\n",
    "D = sparse.diags(idx, dtype=gene2go_matrix_pass_gene.dtype)\n",
    "gene2go_matrix_validated = gene2go_matrix_pass_gene * D\n",
    "\n",
    "sparse.save_npz('/home/bruce1996/data/LIHC_anomaly_detection/functional_profiling/validated_gene2go_matrix.npz',gene2go_matrix_validated)"
   ]
  },
  {
   "cell_type": "markdown",
   "metadata": {},
   "source": [
    "number of GO pass edge-based fisher exact test : 727"
   ]
  },
  {
   "cell_type": "markdown",
   "metadata": {},
   "source": [
    "### Taxonomy enrichment set analysis"
   ]
  },
  {
   "cell_type": "code",
   "execution_count": 2,
   "metadata": {},
   "outputs": [],
   "source": [
    "from utils.tsea import enrich_score,permutation,taxonomy_set_enrichment_analysis\n",
    "import pickle"
   ]
  },
  {
   "cell_type": "code",
   "execution_count": 3,
   "metadata": {},
   "outputs": [],
   "source": [
    "gene2go_matrix_validated = sparse.load_npz('/home/bruce1996/data/LIHC_anomaly_detection/functional_profiling/candidate_functional_module/validated_gene2go_matrix.npz')\n",
    "with open('/home/bruce1996/data/LIHC_anomaly_detection/functional_profiling/candidate_functional_module/validated_go2gene_dict.pkl','rb') as f :\n",
    "    go_genelist = pickle.load(f)"
   ]
  },
  {
   "cell_type": "code",
   "execution_count": 4,
   "metadata": {},
   "outputs": [],
   "source": [
    "with open('/home/bruce1996/data/LIHC_anomaly_detection/functional_profiling/candidate_functional_module/validated_go2gene_dict.pkl','wb') as f :\n",
    "    pickle.dump(go_genelist,f)\n",
    "f.close()"
   ]
  },
  {
   "cell_type": "code",
   "execution_count": null,
   "metadata": {},
   "outputs": [],
   "source": [
    "idx = np.where(np.sum(gene2go_matrix_validated,axis=0)[0,:] > 0)[1]\n",
    "go_list = np.array(list(goindex.keys()))\n",
    "validated_go = go_list[idx]\n",
    "\n",
    "go_genelist = dict()\n",
    "missing = 0\n",
    "n = 0\n",
    "for g in validated_go :\n",
    "    n += 1\n",
    "    idx = np.where(biomart['GO term accession'].values == g,True,False)\n",
    "    if sum(idx) > 0 :\n",
    "        genes = biomart['Gene stable ID'][idx]\n",
    "        genes = np.unique(genes)\n",
    "        go_genelist[g] = genes\n",
    "    else :\n",
    "        missing += 1\n",
    "        \n",
    "    if n % 10 == 0 :\n",
    "        print(n)\n",
    "## or \n",
    "\n",
    "with open('/home/bruce1996/data/LIHC_anomaly_detection/functional_profiling/validated_go2gene_dict.pkl','rb') as f :\n",
    "    go_genelist = pickle.load(f)"
   ]
  },
  {
   "cell_type": "markdown",
   "metadata": {},
   "source": [
    "### tsea by vote"
   ]
  },
  {
   "cell_type": "code",
   "execution_count": 14,
   "metadata": {},
   "outputs": [],
   "source": [
    "with open('/home/bruce1996/data/LIHC_anomaly_detection/functional_profiling/candidate_functional_module/validated_go2gene_dict.pkl','rb') as f :\n",
    "    go_genelist = pickle.load(f)"
   ]
  },
  {
   "cell_type": "code",
   "execution_count": 15,
   "metadata": {},
   "outputs": [],
   "source": [
    "vote = pd.read_csv('/home/bruce1996/data/LIHC_anomaly_detection/ensemble_result/lihc_ensemble_learning_gene_vote.txt',sep='\\t',index_col=0)\n",
    "vote = vote.loc[exp_profile.index,:]\n",
    "vote_m = vote.to_numpy()\n",
    "vote_csc = sparse.csc_matrix(vote_m)\n",
    "vote_csc.eliminate_zeros()"
   ]
  },
  {
   "cell_type": "code",
   "execution_count": null,
   "metadata": {},
   "outputs": [],
   "source": [
    "vote_ranking = list(vote.sort_values(by='Vote',ascending=False).index)\n",
    "vote_tsea = taxonomy_set_enrichment_analysis(go_genelist,vote_ranking)\n",
    "vote_tsea.tsea()\n",
    "df = pd.DataFrame({'Pesudo-F' : vote_tsea.pesudo_f},index = list(go_genelist.keys()))\n",
    "idx = np.where(df['Pesudo-F'].values < 0.05,True,False)\n",
    "pass_vote_go = df.loc[idx,:].sort_values(by='Pesudo-F')\n",
    "#pass_vote_go.to_csv('/home/bruce1996/data/LIHC_anomaly_detection/functional_profiling/vote_tsea.txt',sep='\\t')"
   ]
  },
  {
   "cell_type": "markdown",
   "metadata": {},
   "source": [
    "### tsea by fold-change"
   ]
  },
  {
   "cell_type": "code",
   "execution_count": 17,
   "metadata": {},
   "outputs": [],
   "source": [
    "deseq_df = pd.read_csv(\"/home/bruce1996/data/LIHC_anomaly_detection/differential_expression/coding_gene_deseq2.txt\",sep='\\t',index_col=0)\n",
    "#activate\n",
    "fc_ranking = list(deseq_df.sort_values(by='log2FoldChange',ascending=False).index)\n",
    "#suppress\n",
    "fc_ranking = list(deseq_df.sort_values(by='log2FoldChange').index)"
   ]
  },
  {
   "cell_type": "code",
   "execution_count": 20,
   "metadata": {},
   "outputs": [],
   "source": [
    "foldchange_tsea = taxonomy_set_enrichment_analysis(go_genelist,fc_ranking)\n",
    "foldchange_tsea.tsea()\n",
    "df = pd.DataFrame({'Pesudo-F' : foldchange_tsea.pesudo_f},index = list(go_genelist.keys()))\n",
    "idx = np.where(df['Pesudo-F'] < 0.05,True,False)\n",
    "validated_df = df.loc[idx,:].sort_values(by='Pesudo-F')\n",
    "validated_df.to_csv(\"/home/bruce1996/data/LIHC_anomaly_detection/functional_profiling/candidate_functional_module/fold_change_tsea_inactivate.txt\",sep='\\t')"
   ]
  },
  {
   "cell_type": "code",
   "execution_count": 24,
   "metadata": {},
   "outputs": [],
   "source": [
    "tsea_vote = pd.read_csv('/home/bruce1996/data/LIHC_anomaly_detection/functional_profiling//candidate_functional_module/vote_tsea.txt',sep='\\t',index_col=0)\n",
    "tsea_fc = pd.read_csv('/home/bruce1996/data/LIHC_anomaly_detection/functional_profiling/candidate_functional_module/fold_change_tsea_inactivate.txt',sep='\\t',index_col=0)\n",
    "final_validated_go = list(set(tsea_vote.index).intersection(tsea_fc.index))\n",
    "tsea_fc.loc[final_validated_go,:].sort_values(by='Pesudo-F').to_csv('/home/bruce1996/data/LIHC_anomaly_detection/functional_profiling/candidate_functional_module/inactivate_candidate_go.txt',sep = '\\t')"
   ]
  },
  {
   "cell_type": "markdown",
   "metadata": {},
   "source": [
    "### candidate functional module vote distribution"
   ]
  },
  {
   "cell_type": "code",
   "execution_count": 24,
   "metadata": {},
   "outputs": [],
   "source": [
    "with open('/home/bruce1996/data/LIHC_anomaly_detection/functional_profiling/candidate_functional_module/validated_go2gene_dict.pkl','rb') as f :\n",
    "    go_genelist = pickle.load(f)\n",
    "vote = pd.read_csv('/home/bruce1996/data/LIHC_anomaly_detection/ensemble_result/lihc_ensemble_learning_gene_vote.txt',sep='\\t',index_col=0)\n",
    "candidate_go = pd.read_csv('/home/bruce1996/data/LIHC_anomaly_detection/functional_profiling/candidate_functional_module/activate_candidate_go.txt',sep = '\\t',index_col=0)\n",
    "plot_df = pd.DataFrame(columns=['GO','Gene','Vote'])\n",
    "for go in candidate_go.index :\n",
    "    gene = list(set(go_genelist[go]).intersection(vote.index))\n",
    "    go_vote = vote.loc[gene,'Vote'].values\n",
    "    df = pd.DataFrame({'GO' : [go] * len(gene),'Gene' : gene,'Vote' : go_vote})\n",
    "    plot_df = pd.concat([plot_df,df])"
   ]
  },
  {
   "cell_type": "code",
   "execution_count": 27,
   "metadata": {},
   "outputs": [
    {
     "data": {
      "image/png": "[encoded data removed]",
      "text/plain": [
       "<Figure size 864x432 with 1 Axes>"
      ]
     },
     "metadata": {
      "needs_background": "light"
     },
     "output_type": "display_data"
    }
   ],
   "source": [
    "import seaborn as sns\n",
    "import matplotlib.pyplot as plt\n",
    "\n",
    "plt.figure(figsize=(12,6))\n",
    "sns.boxplot(data=plot_df,x='GO',y='Vote',palette='rainbow_r')\n",
    "plt.xticks(rotation=90)\n",
    "plt.xlabel('Candidate GO term')\n",
    "plt.title(\"Candidate GO term vote number distribution (activate)\")\n",
    "plt.savefig('/home/bruce1996/data/LIHC_anomaly_detection/fig/functional_module/activate_candidate_go_vote_boxplot.png',dpi = 300,bbox_inches = 'tight',format = 'png')"
   ]
  },
  {
   "cell_type": "markdown",
   "metadata": {},
   "source": [
    "### plot <br>\n",
    "potential network layout <br>\n",
    "https://stackoverflow.com/questions/29586520/can-one-get-hierarchical-graphs-from-networkx-with-python-3"
   ]
  }
 ],
 "metadata": {
  "kernelspec": {
   "display_name": "Python 3.8.5 ('base')",
   "language": "python",
   "name": "python3"
  },
  "language_info": {
   "codemirror_mode": {
    "name": "ipython",
    "version": 3
   },
   "file_extension": ".py",
   "mimetype": "text/x-python",
   "name": "python",
   "nbconvert_exporter": "python",
   "pygments_lexer": "ipython3",
   "version": "3.9.7 (default, Sep 16 2021, 13:09:58) \n[GCC 7.5.0]"
  },
  "orig_nbformat": 4,
  "vscode": {
   "interpreter": {
    "hash": "a8896aeeaae841fc56cce69c301eafccebd52b5f2e2c78be19122259dda01972"
   }
  }
 },
 "nbformat": 4,
 "nbformat_minor": 2
}
