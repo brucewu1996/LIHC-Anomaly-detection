{
 "cells": [
  {
   "cell_type": "code",
   "execution_count": 1,
   "metadata": {},
   "outputs": [],
   "source": [
    "import numpy as np\n",
    "import pandas as pd\n",
    "import re,os,random\n",
    "import plotly.express as px\n",
    "import matplotlib.pyplot as plt\n",
    "import seaborn as sns\n",
    "import pickle\n",
    "import umap\n",
    "from sklearn.preprocessing import StandardScaler\n",
    "from sklearn.manifold import TSNE\n",
    "import mars.dataframe as md"
   ]
  },
  {
   "cell_type": "code",
   "execution_count": 15,
   "metadata": {},
   "outputs": [],
   "source": [
    "def read_and_transform(pickle_path) :\n",
    "\n",
    "    with open(pickle_path,'rb') as f :\n",
    "        exp_m = pickle.load(f)\n",
    "    scaler = StandardScaler()\n",
    "    x = scaler.fit_transform(exp_m.T.to_numpy())\n",
    "    stand_x = pd.DataFrame(x,index=exp_m.columns,columns=exp_m.index)\n",
    "    include_idx = stand_x.isna().any(axis=1) == False\n",
    "    scale_x = stand_x.loc[include_idx,:]\n",
    "    return scale_x\n",
    "\n",
    "def manifold_scatterplot(data,xaxis,yaxis,hue,style=None,title='',output_path='',format='png') :\n",
    "    plt.figure(figsize=(13,8))\n",
    "    if not style :\n",
    "        sns.scatterplot(data=data,x=xaxis,y=yaxis,hue=hue,palette=\"Set2\",alpha=0.5,s=100)\n",
    "    else :\n",
    "        sns.scatterplot(data=data,x=xaxis,y=yaxis,hue=hue,style=style,palette=\"Set2\",alpha=0.5,s=100)\n",
    "    plt.title(title,fontsize=15)\n",
    "    plt.legend(ncol=2,bbox_to_anchor=(1, 1),title='Cluster')\n",
    "    plt.savefig(output_path,dpi = 300,bbox_inches='tight',format=format)\n",
    "\n",
    "def read_vote_result(result_path,prefix,np_ratio,idx) :\n",
    "    vote = np.load(result_path + '%s/%s__vote_np_ratio_%d.npy' % (prefix,prefix,np_ratio))\n",
    "    df = pd.Series(vote,index=idx)\n",
    "    idx = df.index.str.contains(\"ENSG\")\n",
    "    return df[idx]\n",
    "\n",
    "def voted_genes_umap_transformation(exp_m,metadata,vote_path,prefix,np_ratio,gene_index) :\n",
    "\n",
    "    vote_result = read_vote_result(vote_path,prefix,np_ratio,gene_index)\n",
    "    candidate_genes = vote_result.index[vote_result > 0]\n",
    "    target_genes = list(set(exp_m.columns).intersection(candidate_genes))\n",
    "    target_x = exp_m.loc[:,target_genes]\n",
    "    target = exp_m.index\n",
    "\n",
    "    #UMAP transformation\n",
    "    reducer = umap.UMAP()\n",
    "    embedding = reducer.fit_transform(target_x)\n",
    "    #transform UMAP embedding to seaborn input\n",
    "    embedding_df = pd.DataFrame({'UMAP1' : embedding[:,0],'UMAP2' : embedding[:,1],'Celltype' :metadata.loc[target,'Celltype'],# type: ignore\n",
    "    'Site' :metadata.loc[target,'site'],'Patient' :metadata.loc[target,'patient'],'Stage' :metadata.loc[target,'stage']})\n",
    "    \n",
    "    return embedding_df\n",
    "\n",
    "def candidate_genes_umap_transformation(exp_m,metadata,candidate_genes) :\n",
    "\n",
    "    target_genes = list(set(exp_m.columns).intersection(candidate_genes))\n",
    "    target_x = exp_m.loc[:,target_genes]\n",
    "    target = exp_m.index\n",
    "    print(target_x.shape)\n",
    "\n",
    "    #UMAP transformation\n",
    "    reducer = umap.UMAP()\n",
    "    embedding = reducer.fit_transform(target_x)\n",
    "    #transform UMAP embedding to seaborn input\n",
    "    embedding_df = metadata.loc[target,:].copy()\n",
    "    embedding_df.insert(0,'UMAP1',embedding[:,0]) # type: ignore\n",
    "    embedding_df.insert(1,'UMAP2',embedding[:,1]) # type: ignore\n",
    "\n",
    "    #embedding_df = pd.DataFrame({'UMAP1' : embedding[:,0],'UMAP2' : embedding[:,1],'Celltype' :metadata.loc[target,'Celltype'],# type: ignore\n",
    "    #'Site' :metadata.loc[target,'site'],'Patient' :metadata.loc[target,'patient'],'Stage' :metadata.loc[target,'Stage']})\n",
    "    \n",
    "    return embedding_df"
   ]
  },
  {
   "attachments": {},
   "cell_type": "markdown",
   "metadata": {},
   "source": [
    "### tmp"
   ]
  },
  {
   "cell_type": "code",
   "execution_count": 3,
   "metadata": {},
   "outputs": [],
   "source": [
    "import plotly.graph_objects as go\n",
    "from plotly.subplots import make_subplots\n",
    "\n",
    "def create_hgsc2ens_converter(ensembel_info,ens_col = 'gene_id',hgsc_col = 'gene_name') :\n",
    "    '''\n",
    "    ensembel_info : str; path of ensembel information\n",
    "    '''\n",
    "    info = pd.read_csv(ensembel_info,sep='\\t',index_col=0)\n",
    "    hgsc2ens = dict(zip(info[hgsc_col],info[ens_col]))\n",
    "    return hgsc2ens\n",
    "\n",
    "def celltype_summary(df,level0_col='patient',level1_col='Advance_celltype') :\n",
    "    '''\n",
    "    df : dataframe; contain patient & celltype information\n",
    "    '''\n",
    "    summary = df.groupby([level0_col,level1_col]).size()\n",
    "    state_pcts = summary.groupby(level=0).apply(lambda x: round(100 * x / float(x.sum()),2))\n",
    "    summary_df = pd.DataFrame({'Number' : summary,'Proportion' : state_pcts})\n",
    "    summary_df[level0_col] = [x[0] for x in list(summary_df.index)]\n",
    "    summary_df[level1_col] = [x[1] for x in list(summary_df.index)]\n",
    "\n",
    "    return summary_df\n",
    "\n",
    "\n",
    "def celltype_summary_barplot(metadata,x='patient',y='Proportion',hue = \"Advance_celltype\",title = 'Cell summary',width = 1200,height = 600) :\n",
    "    '''\n",
    "    metadata : pandas dataframe; with sample metadata\n",
    "    '''\n",
    "    df = celltype_summary(metadata,level0_col=x,level1_col=hue)\n",
    "\n",
    "    fig = make_subplots(specs=[[{\"secondary_y\": True}]])\n",
    "    bar_fig = px.bar(df, x=x, y=y, color=hue,color_discrete_sequence=px.colors.qualitative.Pastel)\n",
    "    # Add traces\n",
    "    for t in bar_fig.select_traces():\n",
    "        fig.add_trace(t, secondary_y = False)\n",
    "\n",
    "    plot_x = sorted(metadata[x].unique())\n",
    "    plot_y = [sum(metadata[x] == idx) for idx in plot_x]\n",
    "\n",
    "    fig.add_trace(\n",
    "        go.Scatter(x=plot_x, y=plot_y,name=\"Cell number\",line=dict(color='royalblue', width=4, dash='dot'),marker=dict(size=12)),\n",
    "        secondary_y=True,\n",
    "    )\n",
    "    # Add figure title\n",
    "    fig.update_layout(title_text=title,legend_title_text='Celltype',barmode='stack',width=width,height=height)\n",
    "    fig.update_yaxes(title_text=\"Cell-type proportion\", secondary_y=False)\n",
    "    fig.update_yaxes(title_text=\"Sample cell number\", secondary_y=True)\n",
    "    fig.update_xaxes(categoryorder='array', categoryarray= plot_x)\n",
    "\n",
    "\n",
    "    return fig"
   ]
  },
  {
   "cell_type": "code",
   "execution_count": 4,
   "metadata": {},
   "outputs": [],
   "source": [
    "metadata = pd.read_csv('/home/bruce1996/data/LIHC_anomaly_detection/validation_dataset/scRNA/GSE149614_HCC.metadata.txt',sep='\\t',index_col=0)\n",
    "x = read_and_transform(\"/home/bruce1996/nvme2/scRNA/GSE149614_hepatocyte_nkcell_normalized.pkl\")"
   ]
  },
  {
   "cell_type": "code",
   "execution_count": 5,
   "metadata": {},
   "outputs": [],
   "source": [
    "#select specific metadata\n",
    "cell_type = \"hepatocyte\"\n",
    "if cell_type == \"tnk_hepatocyte\" :\n",
    "    idx = np.where( (metadata['site'] == 'Tumor') & ((metadata['Celltype'] =='Hepatocyte')|(metadata['Celltype'] =='T/NK')),True,False)\n",
    "else :\n",
    "    idx = np.where( (metadata['site'] == 'Tumor') & (metadata['Celltype'] =='Hepatocyte'),True,False)\n",
    "target = metadata.index[idx]\n",
    "target_metadata = metadata.loc[target,:]\n",
    "target_x = x.loc[target,:]"
   ]
  },
  {
   "cell_type": "code",
   "execution_count": 72,
   "metadata": {},
   "outputs": [
    {
     "data": {
      "application/vnd.plotly.v1+json": {
       "config": {
        "plotlyServerURL": "https://plot.ly"
       },
       "data": [
        {
         "alignmentgroup": "True",
         "hovertemplate": "Advance_celltype=central memory T<br>patient=%{x}<br>Proportion=%{y}<extra></extra>",
         "legendgroup": "central memory T",
         "marker": {
          "color": "rgb(102, 197, 204)",
          "pattern": {
           "shape": ""
          }
         },
         "name": "central memory T",
         "offsetgroup": "central memory T",
         "orientation": "v",
         "showlegend": true,
         "textposition": "auto",
         "type": "bar",
         "x": [
          "HCC01",
          "HCC02",
          "HCC03",
          "HCC04",
          "HCC06",
          "HCC07",
          "HCC08",
          "HCC09",
          "HCC10"
         ],
         "xaxis": "x",
         "y": [
          3.97,
          0.12,
          0.08,
          0.81,
          16.56,
          3.21,
          3.3,
          5.07,
          3.94
         ],
         "yaxis": "y"
        },
        {
         "alignmentgroup": "True",
         "hovertemplate": "Advance_celltype=cytotoxic T lymphocytes<br>patient=%{x}<br>Proportion=%{y}<extra></extra>",
         "legendgroup": "cytotoxic T lymphocytes",
         "marker": {
          "color": "rgb(246, 207, 113)",
          "pattern": {
           "shape": ""
          }
         },
         "name": "cytotoxic T lymphocytes",
         "offsetgroup": "cytotoxic T lymphocytes",
         "orientation": "v",
         "showlegend": true,
         "textposition": "auto",
         "type": "bar",
         "x": [
          "HCC01",
          "HCC02",
          "HCC03",
          "HCC04",
          "HCC05",
          "HCC06",
          "HCC07",
          "HCC08",
          "HCC09",
          "HCC10"
         ],
         "xaxis": "x",
         "y": [
          4.99,
          2.4,
          0.05,
          0.41,
          0.06,
          10.69,
          3.21,
          5.16,
          4.65,
          2.64
         ],
         "yaxis": "y"
        },
        {
         "alignmentgroup": "True",
         "hovertemplate": "Advance_celltype=effector memory T<br>patient=%{x}<br>Proportion=%{y}<extra></extra>",
         "legendgroup": "effector memory T",
         "marker": {
          "color": "rgb(248, 156, 116)",
          "pattern": {
           "shape": ""
          }
         },
         "name": "effector memory T",
         "offsetgroup": "effector memory T",
         "orientation": "v",
         "showlegend": true,
         "textposition": "auto",
         "type": "bar",
         "x": [
          "HCC01",
          "HCC02",
          "HCC03",
          "HCC04",
          "HCC05",
          "HCC06",
          "HCC07",
          "HCC08",
          "HCC09",
          "HCC10"
         ],
         "xaxis": "x",
         "y": [
          4.65,
          0.39,
          0.3,
          0.04,
          0.12,
          3.23,
          1.6,
          0.38,
          0.14,
          0.16
         ],
         "yaxis": "y"
        },
        {
         "alignmentgroup": "True",
         "hovertemplate": "Advance_celltype=intermediate T<br>patient=%{x}<br>Proportion=%{y}<extra></extra>",
         "legendgroup": "intermediate T",
         "marker": {
          "color": "rgb(220, 176, 242)",
          "pattern": {
           "shape": ""
          }
         },
         "name": "intermediate T",
         "offsetgroup": "intermediate T",
         "orientation": "v",
         "showlegend": true,
         "textposition": "auto",
         "type": "bar",
         "x": [
          "HCC01",
          "HCC02",
          "HCC03",
          "HCC04",
          "HCC05",
          "HCC06",
          "HCC07",
          "HCC08",
          "HCC09",
          "HCC10"
         ],
         "xaxis": "x",
         "y": [
          5.75,
          0.55,
          0.3,
          0.11,
          0.25,
          11.11,
          1.07,
          0.53,
          0.23,
          0.26
         ],
         "yaxis": "y"
        },
        {
         "alignmentgroup": "True",
         "hovertemplate": "Advance_celltype=mucosal-associated invariant T<br>patient=%{x}<br>Proportion=%{y}<extra></extra>",
         "legendgroup": "mucosal-associated invariant T",
         "marker": {
          "color": "rgb(135, 197, 95)",
          "pattern": {
           "shape": ""
          }
         },
         "name": "mucosal-associated invariant T",
         "offsetgroup": "mucosal-associated invariant T",
         "orientation": "v",
         "showlegend": true,
         "textposition": "auto",
         "type": "bar",
         "x": [
          "HCC01",
          "HCC02",
          "HCC03",
          "HCC04",
          "HCC06",
          "HCC07",
          "HCC08",
          "HCC09",
          "HCC10"
         ],
         "xaxis": "x",
         "y": [
          13.78,
          0.39,
          0.11,
          0.3,
          11.16,
          1.6,
          0.91,
          0.19,
          0.31
         ],
         "yaxis": "y"
        },
        {
         "alignmentgroup": "True",
         "hovertemplate": "Advance_celltype=natural killer cell<br>patient=%{x}<br>Proportion=%{y}<extra></extra>",
         "legendgroup": "natural killer cell",
         "marker": {
          "color": "rgb(158, 185, 243)",
          "pattern": {
           "shape": ""
          }
         },
         "name": "natural killer cell",
         "offsetgroup": "natural killer cell",
         "orientation": "v",
         "showlegend": true,
         "textposition": "auto",
         "type": "bar",
         "x": [
          "HCC01",
          "HCC02",
          "HCC03",
          "HCC04",
          "HCC05",
          "HCC06",
          "HCC07",
          "HCC08",
          "HCC09",
          "HCC10"
         ],
         "xaxis": "x",
         "y": [
          41.5,
          3.59,
          1.47,
          2.81,
          19.6,
          9.79,
          11.23,
          7.92,
          6.43,
          12.7
         ],
         "yaxis": "y"
        },
        {
         "alignmentgroup": "True",
         "hovertemplate": "Advance_celltype=naïve T<br>patient=%{x}<br>Proportion=%{y}<extra></extra>",
         "legendgroup": "naïve T",
         "marker": {
          "color": "rgb(254, 136, 177)",
          "pattern": {
           "shape": ""
          }
         },
         "name": "naïve T",
         "offsetgroup": "naïve T",
         "orientation": "v",
         "showlegend": true,
         "textposition": "auto",
         "type": "bar",
         "x": [
          "HCC01",
          "HCC02",
          "HCC06",
          "HCC07",
          "HCC08",
          "HCC10"
         ],
         "xaxis": "x",
         "y": [
          4.65,
          0.16,
          1.01,
          2.67,
          0.16,
          0.05
         ],
         "yaxis": "y"
        },
        {
         "alignmentgroup": "True",
         "hovertemplate": "Advance_celltype=non-malignant hepatocyte<br>patient=%{x}<br>Proportion=%{y}<extra></extra>",
         "legendgroup": "non-malignant hepatocyte",
         "marker": {
          "color": "rgb(201, 219, 116)",
          "pattern": {
           "shape": ""
          }
         },
         "name": "non-malignant hepatocyte",
         "offsetgroup": "non-malignant hepatocyte",
         "orientation": "v",
         "showlegend": true,
         "textposition": "auto",
         "type": "bar",
         "x": [
          "HCC01",
          "HCC02",
          "HCC03",
          "HCC04",
          "HCC05",
          "HCC06",
          "HCC07",
          "HCC08",
          "HCC09",
          "HCC10"
         ],
         "xaxis": "x",
         "y": [
          0.68,
          3.03,
          1.79,
          2.14,
          4.53,
          2.54,
          4.81,
          2.17,
          1.31,
          1.24
         ],
         "yaxis": "y"
        },
        {
         "alignmentgroup": "True",
         "hovertemplate": "Advance_celltype=pro-metastatic hepatocyte<br>patient=%{x}<br>Proportion=%{y}<extra></extra>",
         "legendgroup": "pro-metastatic hepatocyte",
         "marker": {
          "color": "rgb(139, 224, 164)",
          "pattern": {
           "shape": ""
          }
         },
         "name": "pro-metastatic hepatocyte",
         "offsetgroup": "pro-metastatic hepatocyte",
         "orientation": "v",
         "showlegend": true,
         "textposition": "auto",
         "type": "bar",
         "x": [
          "HCC01",
          "HCC02",
          "HCC03",
          "HCC04",
          "HCC05",
          "HCC06",
          "HCC07",
          "HCC08",
          "HCC09",
          "HCC10"
         ],
         "xaxis": "x",
         "y": [
          2.79,
          7.72,
          38.16,
          67.23,
          4.03,
          4.66,
          22.46,
          49.03,
          55.59,
          47.95
         ],
         "yaxis": "y"
        },
        {
         "alignmentgroup": "True",
         "hovertemplate": "Advance_celltype=pro-tumorigenic hepatocyte<br>patient=%{x}<br>Proportion=%{y}<extra></extra>",
         "legendgroup": "pro-tumorigenic hepatocyte",
         "marker": {
          "color": "rgb(180, 151, 231)",
          "pattern": {
           "shape": ""
          }
         },
         "name": "pro-tumorigenic hepatocyte",
         "offsetgroup": "pro-tumorigenic hepatocyte",
         "orientation": "v",
         "showlegend": true,
         "textposition": "auto",
         "type": "bar",
         "x": [
          "HCC01",
          "HCC02",
          "HCC03",
          "HCC04",
          "HCC05",
          "HCC06",
          "HCC07",
          "HCC08",
          "HCC09",
          "HCC10"
         ],
         "xaxis": "x",
         "y": [
          2.54,
          74.11,
          54.42,
          21.28,
          65.51,
          5.19,
          16.04,
          6.67,
          13,
          11.15
         ],
         "yaxis": "y"
        },
        {
         "alignmentgroup": "True",
         "hovertemplate": "Advance_celltype=proliferative CD4 T<br>patient=%{x}<br>Proportion=%{y}<extra></extra>",
         "legendgroup": "proliferative CD4 T",
         "marker": {
          "color": "rgb(179, 179, 179)",
          "pattern": {
           "shape": ""
          }
         },
         "name": "proliferative CD4 T",
         "offsetgroup": "proliferative CD4 T",
         "orientation": "v",
         "showlegend": true,
         "textposition": "auto",
         "type": "bar",
         "x": [
          "HCC01",
          "HCC02",
          "HCC03",
          "HCC04",
          "HCC05",
          "HCC06",
          "HCC07",
          "HCC08",
          "HCC09",
          "HCC10"
         ],
         "xaxis": "x",
         "y": [
          3.89,
          1.14,
          2.47,
          3.21,
          3.6,
          4.23,
          2.67,
          2.89,
          2.77,
          3.11
         ],
         "yaxis": "y"
        },
        {
         "alignmentgroup": "True",
         "hovertemplate": "Advance_celltype=proliferative CD8 T<br>patient=%{x}<br>Proportion=%{y}<extra></extra>",
         "legendgroup": "proliferative CD8 T",
         "marker": {
          "color": "rgb(102, 197, 204)",
          "pattern": {
           "shape": ""
          }
         },
         "name": "proliferative CD8 T",
         "offsetgroup": "proliferative CD8 T",
         "orientation": "v",
         "showlegend": true,
         "textposition": "auto",
         "type": "bar",
         "x": [
          "HCC01",
          "HCC02",
          "HCC03",
          "HCC05"
         ],
         "xaxis": "x",
         "y": [
          0.08,
          4.61,
          0.19,
          0.12
         ],
         "yaxis": "y"
        },
        {
         "alignmentgroup": "True",
         "hovertemplate": "Advance_celltype=regulatory T<br>patient=%{x}<br>Proportion=%{y}<extra></extra>",
         "legendgroup": "regulatory T",
         "marker": {
          "color": "rgb(246, 207, 113)",
          "pattern": {
           "shape": ""
          }
         },
         "name": "regulatory T",
         "offsetgroup": "regulatory T",
         "orientation": "v",
         "showlegend": true,
         "textposition": "auto",
         "type": "bar",
         "x": [
          "HCC01",
          "HCC02",
          "HCC03",
          "HCC04",
          "HCC05",
          "HCC06",
          "HCC07",
          "HCC08",
          "HCC09",
          "HCC10"
         ],
         "xaxis": "x",
         "y": [
          2.28,
          0.83,
          0.41,
          1.26,
          0.06,
          7.2,
          21.93,
          19.12,
          10.28,
          14.05
         ],
         "yaxis": "y"
        },
        {
         "alignmentgroup": "True",
         "hovertemplate": "Advance_celltype=tissue-resident memory T<br>patient=%{x}<br>Proportion=%{y}<extra></extra>",
         "legendgroup": "tissue-resident memory T",
         "marker": {
          "color": "rgb(248, 156, 116)",
          "pattern": {
           "shape": ""
          }
         },
         "name": "tissue-resident memory T",
         "offsetgroup": "tissue-resident memory T",
         "orientation": "v",
         "showlegend": true,
         "textposition": "auto",
         "type": "bar",
         "x": [
          "HCC01",
          "HCC02",
          "HCC03",
          "HCC04",
          "HCC05",
          "HCC06",
          "HCC07",
          "HCC08",
          "HCC09",
          "HCC10"
         ],
         "xaxis": "x",
         "y": [
          8.45,
          0.83,
          0.14,
          0.41,
          0.12,
          12.38,
          5.35,
          1.7,
          0.33,
          2.38
         ],
         "yaxis": "y"
        },
        {
         "alignmentgroup": "True",
         "hovertemplate": "Advance_celltype=cholangiocyte <br>patient=%{x}<br>Proportion=%{y}<extra></extra>",
         "legendgroup": "cholangiocyte ",
         "marker": {
          "color": "rgb(220, 176, 242)",
          "pattern": {
           "shape": ""
          }
         },
         "name": "cholangiocyte ",
         "offsetgroup": "cholangiocyte ",
         "orientation": "v",
         "showlegend": true,
         "textposition": "auto",
         "type": "bar",
         "x": [
          "HCC02",
          "HCC03",
          "HCC05",
          "HCC06",
          "HCC07",
          "HCC08",
          "HCC10"
         ],
         "xaxis": "x",
         "y": [
          0.12,
          0.11,
          1.99,
          0.26,
          2.14,
          0.06,
          0.05
         ],
         "yaxis": "y"
        },
        {
         "line": {
          "color": "royalblue",
          "dash": "dot",
          "width": 4
         },
         "marker": {
          "size": 12
         },
         "name": "Cell number",
         "type": "scatter",
         "x": [
          "HCC01",
          "HCC02",
          "HCC03",
          "HCC04",
          "HCC05",
          "HCC06",
          "HCC07",
          "HCC08",
          "HCC09",
          "HCC10"
         ],
         "xaxis": "x",
         "y": [
          1183,
          2538,
          3677,
          2707,
          1612,
          1890,
          187,
          3180,
          2130,
          1929
         ],
         "yaxis": "y2"
        }
       ],
       "layout": {
        "barmode": "stack",
        "height": 600,
        "legend": {
         "title": {
          "text": "Celltype"
         }
        },
        "template": {
         "data": {
          "bar": [
           {
            "error_x": {
             "color": "#2a3f5f"
            },
            "error_y": {
             "color": "#2a3f5f"
            },
            "marker": {
             "line": {
              "color": "#E5ECF6",
              "width": 0.5
             },
             "pattern": {
              "fillmode": "overlay",
              "size": 10,
              "solidity": 0.2
             }
            },
            "type": "bar"
           }
          ],
          "barpolar": [
           {
            "marker": {
             "line": {
              "color": "#E5ECF6",
              "width": 0.5
             },
             "pattern": {
              "fillmode": "overlay",
              "size": 10,
              "solidity": 0.2
             }
            },
            "type": "barpolar"
           }
          ],
          "carpet": [
           {
            "aaxis": {
             "endlinecolor": "#2a3f5f",
             "gridcolor": "white",
             "linecolor": "white",
             "minorgridcolor": "white",
             "startlinecolor": "#2a3f5f"
            },
            "baxis": {
             "endlinecolor": "#2a3f5f",
             "gridcolor": "white",
             "linecolor": "white",
             "minorgridcolor": "white",
             "startlinecolor": "#2a3f5f"
            },
            "type": "carpet"
           }
          ],
          "choropleth": [
           {
            "colorbar": {
             "outlinewidth": 0,
             "ticks": ""
            },
            "type": "choropleth"
           }
          ],
          "contour": [
           {
            "colorbar": {
             "outlinewidth": 0,
             "ticks": ""
            },
            "colorscale": [
             [
              0,
              "#0d0887"
             ],
             [
              0.1111111111111111,
              "#46039f"
             ],
             [
              0.2222222222222222,
              "#7201a8"
             ],
             [
              0.3333333333333333,
              "#9c179e"
             ],
             [
              0.4444444444444444,
              "#bd3786"
             ],
             [
              0.5555555555555556,
              "#d8576b"
             ],
             [
              0.6666666666666666,
              "#ed7953"
             ],
             [
              0.7777777777777778,
              "#fb9f3a"
             ],
             [
              0.8888888888888888,
              "#fdca26"
             ],
             [
              1,
              "#f0f921"
             ]
            ],
            "type": "contour"
           }
          ],
          "contourcarpet": [
           {
            "colorbar": {
             "outlinewidth": 0,
             "ticks": ""
            },
            "type": "contourcarpet"
           }
          ],
          "heatmap": [
           {
            "colorbar": {
             "outlinewidth": 0,
             "ticks": ""
            },
            "colorscale": [
             [
              0,
              "#0d0887"
             ],
             [
              0.1111111111111111,
              "#46039f"
             ],
             [
              0.2222222222222222,
              "#7201a8"
             ],
             [
              0.3333333333333333,
              "#9c179e"
             ],
             [
              0.4444444444444444,
              "#bd3786"
             ],
             [
              0.5555555555555556,
              "#d8576b"
             ],
             [
              0.6666666666666666,
              "#ed7953"
             ],
             [
              0.7777777777777778,
              "#fb9f3a"
             ],
             [
              0.8888888888888888,
              "#fdca26"
             ],
             [
              1,
              "#f0f921"
             ]
            ],
            "type": "heatmap"
           }
          ],
          "heatmapgl": [
           {
            "colorbar": {
             "outlinewidth": 0,
             "ticks": ""
            },
            "colorscale": [
             [
              0,
              "#0d0887"
             ],
             [
              0.1111111111111111,
              "#46039f"
             ],
             [
              0.2222222222222222,
              "#7201a8"
             ],
             [
              0.3333333333333333,
              "#9c179e"
             ],
             [
              0.4444444444444444,
              "#bd3786"
             ],
             [
              0.5555555555555556,
              "#d8576b"
             ],
             [
              0.6666666666666666,
              "#ed7953"
             ],
             [
              0.7777777777777778,
              "#fb9f3a"
             ],
             [
              0.8888888888888888,
              "#fdca26"
             ],
             [
              1,
              "#f0f921"
             ]
            ],
            "type": "heatmapgl"
           }
          ],
          "histogram": [
           {
            "marker": {
             "pattern": {
              "fillmode": "overlay",
              "size": 10,
              "solidity": 0.2
             }
            },
            "type": "histogram"
           }
          ],
          "histogram2d": [
           {
            "colorbar": {
             "outlinewidth": 0,
             "ticks": ""
            },
            "colorscale": [
             [
              0,
              "#0d0887"
             ],
             [
              0.1111111111111111,
              "#46039f"
             ],
             [
              0.2222222222222222,
              "#7201a8"
             ],
             [
              0.3333333333333333,
              "#9c179e"
             ],
             [
              0.4444444444444444,
              "#bd3786"
             ],
             [
              0.5555555555555556,
              "#d8576b"
             ],
             [
              0.6666666666666666,
              "#ed7953"
             ],
             [
              0.7777777777777778,
              "#fb9f3a"
             ],
             [
              0.8888888888888888,
              "#fdca26"
             ],
             [
              1,
              "#f0f921"
             ]
            ],
            "type": "histogram2d"
           }
          ],
          "histogram2dcontour": [
           {
            "colorbar": {
             "outlinewidth": 0,
             "ticks": ""
            },
            "colorscale": [
             [
              0,
              "#0d0887"
             ],
             [
              0.1111111111111111,
              "#46039f"
             ],
             [
              0.2222222222222222,
              "#7201a8"
             ],
             [
              0.3333333333333333,
              "#9c179e"
             ],
             [
              0.4444444444444444,
              "#bd3786"
             ],
             [
              0.5555555555555556,
              "#d8576b"
             ],
             [
              0.6666666666666666,
              "#ed7953"
             ],
             [
              0.7777777777777778,
              "#fb9f3a"
             ],
             [
              0.8888888888888888,
              "#fdca26"
             ],
             [
              1,
              "#f0f921"
             ]
            ],
            "type": "histogram2dcontour"
           }
          ],
          "mesh3d": [
           {
            "colorbar": {
             "outlinewidth": 0,
             "ticks": ""
            },
            "type": "mesh3d"
           }
          ],
          "parcoords": [
           {
            "line": {
             "colorbar": {
              "outlinewidth": 0,
              "ticks": ""
             }
            },
            "type": "parcoords"
           }
          ],
          "pie": [
           {
            "automargin": true,
            "type": "pie"
           }
          ],
          "scatter": [
           {
            "fillpattern": {
             "fillmode": "overlay",
             "size": 10,
             "solidity": 0.2
            },
            "type": "scatter"
           }
          ],
          "scatter3d": [
           {
            "line": {
             "colorbar": {
              "outlinewidth": 0,
              "ticks": ""
             }
            },
            "marker": {
             "colorbar": {
              "outlinewidth": 0,
              "ticks": ""
             }
            },
            "type": "scatter3d"
           }
          ],
          "scattercarpet": [
           {
            "marker": {
             "colorbar": {
              "outlinewidth": 0,
              "ticks": ""
             }
            },
            "type": "scattercarpet"
           }
          ],
          "scattergeo": [
           {
            "marker": {
             "colorbar": {
              "outlinewidth": 0,
              "ticks": ""
             }
            },
            "type": "scattergeo"
           }
          ],
          "scattergl": [
           {
            "marker": {
             "colorbar": {
              "outlinewidth": 0,
              "ticks": ""
             }
            },
            "type": "scattergl"
           }
          ],
          "scattermapbox": [
           {
            "marker": {
             "colorbar": {
              "outlinewidth": 0,
              "ticks": ""
             }
            },
            "type": "scattermapbox"
           }
          ],
          "scatterpolar": [
           {
            "marker": {
             "colorbar": {
              "outlinewidth": 0,
              "ticks": ""
             }
            },
            "type": "scatterpolar"
           }
          ],
          "scatterpolargl": [
           {
            "marker": {
             "colorbar": {
              "outlinewidth": 0,
              "ticks": ""
             }
            },
            "type": "scatterpolargl"
           }
          ],
          "scatterternary": [
           {
            "marker": {
             "colorbar": {
              "outlinewidth": 0,
              "ticks": ""
             }
            },
            "type": "scatterternary"
           }
          ],
          "surface": [
           {
            "colorbar": {
             "outlinewidth": 0,
             "ticks": ""
            },
            "colorscale": [
             [
              0,
              "#0d0887"
             ],
             [
              0.1111111111111111,
              "#46039f"
             ],
             [
              0.2222222222222222,
              "#7201a8"
             ],
             [
              0.3333333333333333,
              "#9c179e"
             ],
             [
              0.4444444444444444,
              "#bd3786"
             ],
             [
              0.5555555555555556,
              "#d8576b"
             ],
             [
              0.6666666666666666,
              "#ed7953"
             ],
             [
              0.7777777777777778,
              "#fb9f3a"
             ],
             [
              0.8888888888888888,
              "#fdca26"
             ],
             [
              1,
              "#f0f921"
             ]
            ],
            "type": "surface"
           }
          ],
          "table": [
           {
            "cells": {
             "fill": {
              "color": "#EBF0F8"
             },
             "line": {
              "color": "white"
             }
            },
            "header": {
             "fill": {
              "color": "#C8D4E3"
             },
             "line": {
              "color": "white"
             }
            },
            "type": "table"
           }
          ]
         },
         "layout": {
          "annotationdefaults": {
           "arrowcolor": "#2a3f5f",
           "arrowhead": 0,
           "arrowwidth": 1
          },
          "autotypenumbers": "strict",
          "coloraxis": {
           "colorbar": {
            "outlinewidth": 0,
            "ticks": ""
           }
          },
          "colorscale": {
           "diverging": [
            [
             0,
             "#8e0152"
            ],
            [
             0.1,
             "#c51b7d"
            ],
            [
             0.2,
             "#de77ae"
            ],
            [
             0.3,
             "#f1b6da"
            ],
            [
             0.4,
             "#fde0ef"
            ],
            [
             0.5,
             "#f7f7f7"
            ],
            [
             0.6,
             "#e6f5d0"
            ],
            [
             0.7,
             "#b8e186"
            ],
            [
             0.8,
             "#7fbc41"
            ],
            [
             0.9,
             "#4d9221"
            ],
            [
             1,
             "#276419"
            ]
           ],
           "sequential": [
            [
             0,
             "#0d0887"
            ],
            [
             0.1111111111111111,
             "#46039f"
            ],
            [
             0.2222222222222222,
             "#7201a8"
            ],
            [
             0.3333333333333333,
             "#9c179e"
            ],
            [
             0.4444444444444444,
             "#bd3786"
            ],
            [
             0.5555555555555556,
             "#d8576b"
            ],
            [
             0.6666666666666666,
             "#ed7953"
            ],
            [
             0.7777777777777778,
             "#fb9f3a"
            ],
            [
             0.8888888888888888,
             "#fdca26"
            ],
            [
             1,
             "#f0f921"
            ]
           ],
           "sequentialminus": [
            [
             0,
             "#0d0887"
            ],
            [
             0.1111111111111111,
             "#46039f"
            ],
            [
             0.2222222222222222,
             "#7201a8"
            ],
            [
             0.3333333333333333,
             "#9c179e"
            ],
            [
             0.4444444444444444,
             "#bd3786"
            ],
            [
             0.5555555555555556,
             "#d8576b"
            ],
            [
             0.6666666666666666,
             "#ed7953"
            ],
            [
             0.7777777777777778,
             "#fb9f3a"
            ],
            [
             0.8888888888888888,
             "#fdca26"
            ],
            [
             1,
             "#f0f921"
            ]
           ]
          },
          "colorway": [
           "#636efa",
           "#EF553B",
           "#00cc96",
           "#ab63fa",
           "#FFA15A",
           "#19d3f3",
           "#FF6692",
           "#B6E880",
           "#FF97FF",
           "#FECB52"
          ],
          "font": {
           "color": "#2a3f5f"
          },
          "geo": {
           "bgcolor": "white",
           "lakecolor": "white",
           "landcolor": "#E5ECF6",
           "showlakes": true,
           "showland": true,
           "subunitcolor": "white"
          },
          "hoverlabel": {
           "align": "left"
          },
          "hovermode": "closest",
          "mapbox": {
           "style": "light"
          },
          "paper_bgcolor": "white",
          "plot_bgcolor": "#E5ECF6",
          "polar": {
           "angularaxis": {
            "gridcolor": "white",
            "linecolor": "white",
            "ticks": ""
           },
           "bgcolor": "#E5ECF6",
           "radialaxis": {
            "gridcolor": "white",
            "linecolor": "white",
            "ticks": ""
           }
          },
          "scene": {
           "xaxis": {
            "backgroundcolor": "#E5ECF6",
            "gridcolor": "white",
            "gridwidth": 2,
            "linecolor": "white",
            "showbackground": true,
            "ticks": "",
            "zerolinecolor": "white"
           },
           "yaxis": {
            "backgroundcolor": "#E5ECF6",
            "gridcolor": "white",
            "gridwidth": 2,
            "linecolor": "white",
            "showbackground": true,
            "ticks": "",
            "zerolinecolor": "white"
           },
           "zaxis": {
            "backgroundcolor": "#E5ECF6",
            "gridcolor": "white",
            "gridwidth": 2,
            "linecolor": "white",
            "showbackground": true,
            "ticks": "",
            "zerolinecolor": "white"
           }
          },
          "shapedefaults": {
           "line": {
            "color": "#2a3f5f"
           }
          },
          "ternary": {
           "aaxis": {
            "gridcolor": "white",
            "linecolor": "white",
            "ticks": ""
           },
           "baxis": {
            "gridcolor": "white",
            "linecolor": "white",
            "ticks": ""
           },
           "bgcolor": "#E5ECF6",
           "caxis": {
            "gridcolor": "white",
            "linecolor": "white",
            "ticks": ""
           }
          },
          "title": {
           "x": 0.05
          },
          "xaxis": {
           "automargin": true,
           "gridcolor": "white",
           "linecolor": "white",
           "ticks": "",
           "title": {
            "standoff": 15
           },
           "zerolinecolor": "white",
           "zerolinewidth": 2
          },
          "yaxis": {
           "automargin": true,
           "gridcolor": "white",
           "linecolor": "white",
           "ticks": "",
           "title": {
            "standoff": 15
           },
           "zerolinecolor": "white",
           "zerolinewidth": 2
          }
         }
        },
        "title": {
         "text": "Sample cell-type summary(T/NK cell)"
        },
        "width": 1200,
        "xaxis": {
         "anchor": "y",
         "categoryarray": [
          "HCC01",
          "HCC02",
          "HCC03",
          "HCC04",
          "HCC05",
          "HCC06",
          "HCC07",
          "HCC08",
          "HCC09",
          "HCC10"
         ],
         "categoryorder": "array",
         "domain": [
          0,
          0.94
         ]
        },
        "yaxis": {
         "anchor": "x",
         "domain": [
          0,
          1
         ],
         "title": {
          "text": "Cell-type proportion"
         }
        },
        "yaxis2": {
         "anchor": "x",
         "overlaying": "y",
         "side": "right",
         "title": {
          "text": "Sample cell number"
         }
        }
       }
      },
      "text/html": [
       "<div>                            <div id=\"9d489d85-b3cc-4ca3-b2d6-2d8fd94a506b\" class=\"plotly-graph-div\" style=\"height:600px; width:1200px;\"></div>            <script type=\"text/javascript\">                require([\"plotly\"], function(Plotly) {                    window.PLOTLYENV=window.PLOTLYENV || {};                                    if (document.getElementById(\"9d489d85-b3cc-4ca3-b2d6-2d8fd94a506b\")) {                    Plotly.newPlot(                        \"9d489d85-b3cc-4ca3-b2d6-2d8fd94a506b\",                        [{\"alignmentgroup\":\"True\",\"hovertemplate\":\"Advance_celltype=central memory T<br>patient=%{x}<br>Proportion=%{y}<extra></extra>\",\"legendgroup\":\"central memory T\",\"marker\":{\"color\":\"rgb(102, 197, 204)\",\"pattern\":{\"shape\":\"\"}},\"name\":\"central memory T\",\"offsetgroup\":\"central memory T\",\"orientation\":\"v\",\"showlegend\":true,\"textposition\":\"auto\",\"x\":[\"HCC01\",\"HCC02\",\"HCC03\",\"HCC04\",\"HCC06\",\"HCC07\",\"HCC08\",\"HCC09\",\"HCC10\"],\"xaxis\":\"x\",\"y\":[3.97,0.12,0.08,0.81,16.56,3.21,3.3,5.07,3.94],\"yaxis\":\"y\",\"type\":\"bar\"},{\"alignmentgroup\":\"True\",\"hovertemplate\":\"Advance_celltype=cytotoxic T lymphocytes<br>patient=%{x}<br>Proportion=%{y}<extra></extra>\",\"legendgroup\":\"cytotoxic T lymphocytes\",\"marker\":{\"color\":\"rgb(246, 207, 113)\",\"pattern\":{\"shape\":\"\"}},\"name\":\"cytotoxic T lymphocytes\",\"offsetgroup\":\"cytotoxic T lymphocytes\",\"orientation\":\"v\",\"showlegend\":true,\"textposition\":\"auto\",\"x\":[\"HCC01\",\"HCC02\",\"HCC03\",\"HCC04\",\"HCC05\",\"HCC06\",\"HCC07\",\"HCC08\",\"HCC09\",\"HCC10\"],\"xaxis\":\"x\",\"y\":[4.99,2.4,0.05,0.41,0.06,10.69,3.21,5.16,4.65,2.64],\"yaxis\":\"y\",\"type\":\"bar\"},{\"alignmentgroup\":\"True\",\"hovertemplate\":\"Advance_celltype=effector memory T<br>patient=%{x}<br>Proportion=%{y}<extra></extra>\",\"legendgroup\":\"effector memory T\",\"marker\":{\"color\":\"rgb(248, 156, 116)\",\"pattern\":{\"shape\":\"\"}},\"name\":\"effector memory T\",\"offsetgroup\":\"effector memory T\",\"orientation\":\"v\",\"showlegend\":true,\"textposition\":\"auto\",\"x\":[\"HCC01\",\"HCC02\",\"HCC03\",\"HCC04\",\"HCC05\",\"HCC06\",\"HCC07\",\"HCC08\",\"HCC09\",\"HCC10\"],\"xaxis\":\"x\",\"y\":[4.65,0.39,0.3,0.04,0.12,3.23,1.6,0.38,0.14,0.16],\"yaxis\":\"y\",\"type\":\"bar\"},{\"alignmentgroup\":\"True\",\"hovertemplate\":\"Advance_celltype=intermediate T<br>patient=%{x}<br>Proportion=%{y}<extra></extra>\",\"legendgroup\":\"intermediate T\",\"marker\":{\"color\":\"rgb(220, 176, 242)\",\"pattern\":{\"shape\":\"\"}},\"name\":\"intermediate T\",\"offsetgroup\":\"intermediate T\",\"orientation\":\"v\",\"showlegend\":true,\"textposition\":\"auto\",\"x\":[\"HCC01\",\"HCC02\",\"HCC03\",\"HCC04\",\"HCC05\",\"HCC06\",\"HCC07\",\"HCC08\",\"HCC09\",\"HCC10\"],\"xaxis\":\"x\",\"y\":[5.75,0.55,0.3,0.11,0.25,11.11,1.07,0.53,0.23,0.26],\"yaxis\":\"y\",\"type\":\"bar\"},{\"alignmentgroup\":\"True\",\"hovertemplate\":\"Advance_celltype=mucosal-associated invariant T<br>patient=%{x}<br>Proportion=%{y}<extra></extra>\",\"legendgroup\":\"mucosal-associated invariant T\",\"marker\":{\"color\":\"rgb(135, 197, 95)\",\"pattern\":{\"shape\":\"\"}},\"name\":\"mucosal-associated invariant T\",\"offsetgroup\":\"mucosal-associated invariant T\",\"orientation\":\"v\",\"showlegend\":true,\"textposition\":\"auto\",\"x\":[\"HCC01\",\"HCC02\",\"HCC03\",\"HCC04\",\"HCC06\",\"HCC07\",\"HCC08\",\"HCC09\",\"HCC10\"],\"xaxis\":\"x\",\"y\":[13.78,0.39,0.11,0.3,11.16,1.6,0.91,0.19,0.31],\"yaxis\":\"y\",\"type\":\"bar\"},{\"alignmentgroup\":\"True\",\"hovertemplate\":\"Advance_celltype=natural killer cell<br>patient=%{x}<br>Proportion=%{y}<extra></extra>\",\"legendgroup\":\"natural killer cell\",\"marker\":{\"color\":\"rgb(158, 185, 243)\",\"pattern\":{\"shape\":\"\"}},\"name\":\"natural killer cell\",\"offsetgroup\":\"natural killer cell\",\"orientation\":\"v\",\"showlegend\":true,\"textposition\":\"auto\",\"x\":[\"HCC01\",\"HCC02\",\"HCC03\",\"HCC04\",\"HCC05\",\"HCC06\",\"HCC07\",\"HCC08\",\"HCC09\",\"HCC10\"],\"xaxis\":\"x\",\"y\":[41.5,3.59,1.47,2.81,19.6,9.79,11.23,7.92,6.43,12.7],\"yaxis\":\"y\",\"type\":\"bar\"},{\"alignmentgroup\":\"True\",\"hovertemplate\":\"Advance_celltype=na\\u00efve T<br>patient=%{x}<br>Proportion=%{y}<extra></extra>\",\"legendgroup\":\"na\\u00efve T\",\"marker\":{\"color\":\"rgb(254, 136, 177)\",\"pattern\":{\"shape\":\"\"}},\"name\":\"na\\u00efve T\",\"offsetgroup\":\"na\\u00efve T\",\"orientation\":\"v\",\"showlegend\":true,\"textposition\":\"auto\",\"x\":[\"HCC01\",\"HCC02\",\"HCC06\",\"HCC07\",\"HCC08\",\"HCC10\"],\"xaxis\":\"x\",\"y\":[4.65,0.16,1.01,2.67,0.16,0.05],\"yaxis\":\"y\",\"type\":\"bar\"},{\"alignmentgroup\":\"True\",\"hovertemplate\":\"Advance_celltype=non-malignant hepatocyte<br>patient=%{x}<br>Proportion=%{y}<extra></extra>\",\"legendgroup\":\"non-malignant hepatocyte\",\"marker\":{\"color\":\"rgb(201, 219, 116)\",\"pattern\":{\"shape\":\"\"}},\"name\":\"non-malignant hepatocyte\",\"offsetgroup\":\"non-malignant hepatocyte\",\"orientation\":\"v\",\"showlegend\":true,\"textposition\":\"auto\",\"x\":[\"HCC01\",\"HCC02\",\"HCC03\",\"HCC04\",\"HCC05\",\"HCC06\",\"HCC07\",\"HCC08\",\"HCC09\",\"HCC10\"],\"xaxis\":\"x\",\"y\":[0.68,3.03,1.79,2.14,4.53,2.54,4.81,2.17,1.31,1.24],\"yaxis\":\"y\",\"type\":\"bar\"},{\"alignmentgroup\":\"True\",\"hovertemplate\":\"Advance_celltype=pro-metastatic hepatocyte<br>patient=%{x}<br>Proportion=%{y}<extra></extra>\",\"legendgroup\":\"pro-metastatic hepatocyte\",\"marker\":{\"color\":\"rgb(139, 224, 164)\",\"pattern\":{\"shape\":\"\"}},\"name\":\"pro-metastatic hepatocyte\",\"offsetgroup\":\"pro-metastatic hepatocyte\",\"orientation\":\"v\",\"showlegend\":true,\"textposition\":\"auto\",\"x\":[\"HCC01\",\"HCC02\",\"HCC03\",\"HCC04\",\"HCC05\",\"HCC06\",\"HCC07\",\"HCC08\",\"HCC09\",\"HCC10\"],\"xaxis\":\"x\",\"y\":[2.79,7.72,38.16,67.23,4.03,4.66,22.46,49.03,55.59,47.95],\"yaxis\":\"y\",\"type\":\"bar\"},{\"alignmentgroup\":\"True\",\"hovertemplate\":\"Advance_celltype=pro-tumorigenic hepatocyte<br>patient=%{x}<br>Proportion=%{y}<extra></extra>\",\"legendgroup\":\"pro-tumorigenic hepatocyte\",\"marker\":{\"color\":\"rgb(180, 151, 231)\",\"pattern\":{\"shape\":\"\"}},\"name\":\"pro-tumorigenic hepatocyte\",\"offsetgroup\":\"pro-tumorigenic hepatocyte\",\"orientation\":\"v\",\"showlegend\":true,\"textposition\":\"auto\",\"x\":[\"HCC01\",\"HCC02\",\"HCC03\",\"HCC04\",\"HCC05\",\"HCC06\",\"HCC07\",\"HCC08\",\"HCC09\",\"HCC10\"],\"xaxis\":\"x\",\"y\":[2.54,74.11,54.42,21.28,65.51,5.19,16.04,6.67,13.0,11.15],\"yaxis\":\"y\",\"type\":\"bar\"},{\"alignmentgroup\":\"True\",\"hovertemplate\":\"Advance_celltype=proliferative CD4 T<br>patient=%{x}<br>Proportion=%{y}<extra></extra>\",\"legendgroup\":\"proliferative CD4 T\",\"marker\":{\"color\":\"rgb(179, 179, 179)\",\"pattern\":{\"shape\":\"\"}},\"name\":\"proliferative CD4 T\",\"offsetgroup\":\"proliferative CD4 T\",\"orientation\":\"v\",\"showlegend\":true,\"textposition\":\"auto\",\"x\":[\"HCC01\",\"HCC02\",\"HCC03\",\"HCC04\",\"HCC05\",\"HCC06\",\"HCC07\",\"HCC08\",\"HCC09\",\"HCC10\"],\"xaxis\":\"x\",\"y\":[3.89,1.14,2.47,3.21,3.6,4.23,2.67,2.89,2.77,3.11],\"yaxis\":\"y\",\"type\":\"bar\"},{\"alignmentgroup\":\"True\",\"hovertemplate\":\"Advance_celltype=proliferative CD8 T<br>patient=%{x}<br>Proportion=%{y}<extra></extra>\",\"legendgroup\":\"proliferative CD8 T\",\"marker\":{\"color\":\"rgb(102, 197, 204)\",\"pattern\":{\"shape\":\"\"}},\"name\":\"proliferative CD8 T\",\"offsetgroup\":\"proliferative CD8 T\",\"orientation\":\"v\",\"showlegend\":true,\"textposition\":\"auto\",\"x\":[\"HCC01\",\"HCC02\",\"HCC03\",\"HCC05\"],\"xaxis\":\"x\",\"y\":[0.08,4.61,0.19,0.12],\"yaxis\":\"y\",\"type\":\"bar\"},{\"alignmentgroup\":\"True\",\"hovertemplate\":\"Advance_celltype=regulatory T<br>patient=%{x}<br>Proportion=%{y}<extra></extra>\",\"legendgroup\":\"regulatory T\",\"marker\":{\"color\":\"rgb(246, 207, 113)\",\"pattern\":{\"shape\":\"\"}},\"name\":\"regulatory T\",\"offsetgroup\":\"regulatory T\",\"orientation\":\"v\",\"showlegend\":true,\"textposition\":\"auto\",\"x\":[\"HCC01\",\"HCC02\",\"HCC03\",\"HCC04\",\"HCC05\",\"HCC06\",\"HCC07\",\"HCC08\",\"HCC09\",\"HCC10\"],\"xaxis\":\"x\",\"y\":[2.28,0.83,0.41,1.26,0.06,7.2,21.93,19.12,10.28,14.05],\"yaxis\":\"y\",\"type\":\"bar\"},{\"alignmentgroup\":\"True\",\"hovertemplate\":\"Advance_celltype=tissue-resident memory T<br>patient=%{x}<br>Proportion=%{y}<extra></extra>\",\"legendgroup\":\"tissue-resident memory T\",\"marker\":{\"color\":\"rgb(248, 156, 116)\",\"pattern\":{\"shape\":\"\"}},\"name\":\"tissue-resident memory T\",\"offsetgroup\":\"tissue-resident memory T\",\"orientation\":\"v\",\"showlegend\":true,\"textposition\":\"auto\",\"x\":[\"HCC01\",\"HCC02\",\"HCC03\",\"HCC04\",\"HCC05\",\"HCC06\",\"HCC07\",\"HCC08\",\"HCC09\",\"HCC10\"],\"xaxis\":\"x\",\"y\":[8.45,0.83,0.14,0.41,0.12,12.38,5.35,1.7,0.33,2.38],\"yaxis\":\"y\",\"type\":\"bar\"},{\"alignmentgroup\":\"True\",\"hovertemplate\":\"Advance_celltype=cholangiocyte <br>patient=%{x}<br>Proportion=%{y}<extra></extra>\",\"legendgroup\":\"cholangiocyte \",\"marker\":{\"color\":\"rgb(220, 176, 242)\",\"pattern\":{\"shape\":\"\"}},\"name\":\"cholangiocyte \",\"offsetgroup\":\"cholangiocyte \",\"orientation\":\"v\",\"showlegend\":true,\"textposition\":\"auto\",\"x\":[\"HCC02\",\"HCC03\",\"HCC05\",\"HCC06\",\"HCC07\",\"HCC08\",\"HCC10\"],\"xaxis\":\"x\",\"y\":[0.12,0.11,1.99,0.26,2.14,0.06,0.05],\"yaxis\":\"y\",\"type\":\"bar\"},{\"line\":{\"color\":\"royalblue\",\"dash\":\"dot\",\"width\":4},\"marker\":{\"size\":12},\"name\":\"Cell number\",\"x\":[\"HCC01\",\"HCC02\",\"HCC03\",\"HCC04\",\"HCC05\",\"HCC06\",\"HCC07\",\"HCC08\",\"HCC09\",\"HCC10\"],\"y\":[1183,2538,3677,2707,1612,1890,187,3180,2130,1929],\"type\":\"scatter\",\"xaxis\":\"x\",\"yaxis\":\"y2\"}],                        {\"template\":{\"data\":{\"histogram2dcontour\":[{\"type\":\"histogram2dcontour\",\"colorbar\":{\"outlinewidth\":0,\"ticks\":\"\"},\"colorscale\":[[0.0,\"#0d0887\"],[0.1111111111111111,\"#46039f\"],[0.2222222222222222,\"#7201a8\"],[0.3333333333333333,\"#9c179e\"],[0.4444444444444444,\"#bd3786\"],[0.5555555555555556,\"#d8576b\"],[0.6666666666666666,\"#ed7953\"],[0.7777777777777778,\"#fb9f3a\"],[0.8888888888888888,\"#fdca26\"],[1.0,\"#f0f921\"]]}],\"choropleth\":[{\"type\":\"choropleth\",\"colorbar\":{\"outlinewidth\":0,\"ticks\":\"\"}}],\"histogram2d\":[{\"type\":\"histogram2d\",\"colorbar\":{\"outlinewidth\":0,\"ticks\":\"\"},\"colorscale\":[[0.0,\"#0d0887\"],[0.1111111111111111,\"#46039f\"],[0.2222222222222222,\"#7201a8\"],[0.3333333333333333,\"#9c179e\"],[0.4444444444444444,\"#bd3786\"],[0.5555555555555556,\"#d8576b\"],[0.6666666666666666,\"#ed7953\"],[0.7777777777777778,\"#fb9f3a\"],[0.8888888888888888,\"#fdca26\"],[1.0,\"#f0f921\"]]}],\"heatmap\":[{\"type\":\"heatmap\",\"colorbar\":{\"outlinewidth\":0,\"ticks\":\"\"},\"colorscale\":[[0.0,\"#0d0887\"],[0.1111111111111111,\"#46039f\"],[0.2222222222222222,\"#7201a8\"],[0.3333333333333333,\"#9c179e\"],[0.4444444444444444,\"#bd3786\"],[0.5555555555555556,\"#d8576b\"],[0.6666666666666666,\"#ed7953\"],[0.7777777777777778,\"#fb9f3a\"],[0.8888888888888888,\"#fdca26\"],[1.0,\"#f0f921\"]]}],\"heatmapgl\":[{\"type\":\"heatmapgl\",\"colorbar\":{\"outlinewidth\":0,\"ticks\":\"\"},\"colorscale\":[[0.0,\"#0d0887\"],[0.1111111111111111,\"#46039f\"],[0.2222222222222222,\"#7201a8\"],[0.3333333333333333,\"#9c179e\"],[0.4444444444444444,\"#bd3786\"],[0.5555555555555556,\"#d8576b\"],[0.6666666666666666,\"#ed7953\"],[0.7777777777777778,\"#fb9f3a\"],[0.8888888888888888,\"#fdca26\"],[1.0,\"#f0f921\"]]}],\"contourcarpet\":[{\"type\":\"contourcarpet\",\"colorbar\":{\"outlinewidth\":0,\"ticks\":\"\"}}],\"contour\":[{\"type\":\"contour\",\"colorbar\":{\"outlinewidth\":0,\"ticks\":\"\"},\"colorscale\":[[0.0,\"#0d0887\"],[0.1111111111111111,\"#46039f\"],[0.2222222222222222,\"#7201a8\"],[0.3333333333333333,\"#9c179e\"],[0.4444444444444444,\"#bd3786\"],[0.5555555555555556,\"#d8576b\"],[0.6666666666666666,\"#ed7953\"],[0.7777777777777778,\"#fb9f3a\"],[0.8888888888888888,\"#fdca26\"],[1.0,\"#f0f921\"]]}],\"surface\":[{\"type\":\"surface\",\"colorbar\":{\"outlinewidth\":0,\"ticks\":\"\"},\"colorscale\":[[0.0,\"#0d0887\"],[0.1111111111111111,\"#46039f\"],[0.2222222222222222,\"#7201a8\"],[0.3333333333333333,\"#9c179e\"],[0.4444444444444444,\"#bd3786\"],[0.5555555555555556,\"#d8576b\"],[0.6666666666666666,\"#ed7953\"],[0.7777777777777778,\"#fb9f3a\"],[0.8888888888888888,\"#fdca26\"],[1.0,\"#f0f921\"]]}],\"mesh3d\":[{\"type\":\"mesh3d\",\"colorbar\":{\"outlinewidth\":0,\"ticks\":\"\"}}],\"scatter\":[{\"fillpattern\":{\"fillmode\":\"overlay\",\"size\":10,\"solidity\":0.2},\"type\":\"scatter\"}],\"parcoords\":[{\"type\":\"parcoords\",\"line\":{\"colorbar\":{\"outlinewidth\":0,\"ticks\":\"\"}}}],\"scatterpolargl\":[{\"type\":\"scatterpolargl\",\"marker\":{\"colorbar\":{\"outlinewidth\":0,\"ticks\":\"\"}}}],\"bar\":[{\"error_x\":{\"color\":\"#2a3f5f\"},\"error_y\":{\"color\":\"#2a3f5f\"},\"marker\":{\"line\":{\"color\":\"#E5ECF6\",\"width\":0.5},\"pattern\":{\"fillmode\":\"overlay\",\"size\":10,\"solidity\":0.2}},\"type\":\"bar\"}],\"scattergeo\":[{\"type\":\"scattergeo\",\"marker\":{\"colorbar\":{\"outlinewidth\":0,\"ticks\":\"\"}}}],\"scatterpolar\":[{\"type\":\"scatterpolar\",\"marker\":{\"colorbar\":{\"outlinewidth\":0,\"ticks\":\"\"}}}],\"histogram\":[{\"marker\":{\"pattern\":{\"fillmode\":\"overlay\",\"size\":10,\"solidity\":0.2}},\"type\":\"histogram\"}],\"scattergl\":[{\"type\":\"scattergl\",\"marker\":{\"colorbar\":{\"outlinewidth\":0,\"ticks\":\"\"}}}],\"scatter3d\":[{\"type\":\"scatter3d\",\"line\":{\"colorbar\":{\"outlinewidth\":0,\"ticks\":\"\"}},\"marker\":{\"colorbar\":{\"outlinewidth\":0,\"ticks\":\"\"}}}],\"scattermapbox\":[{\"type\":\"scattermapbox\",\"marker\":{\"colorbar\":{\"outlinewidth\":0,\"ticks\":\"\"}}}],\"scatterternary\":[{\"type\":\"scatterternary\",\"marker\":{\"colorbar\":{\"outlinewidth\":0,\"ticks\":\"\"}}}],\"scattercarpet\":[{\"type\":\"scattercarpet\",\"marker\":{\"colorbar\":{\"outlinewidth\":0,\"ticks\":\"\"}}}],\"carpet\":[{\"aaxis\":{\"endlinecolor\":\"#2a3f5f\",\"gridcolor\":\"white\",\"linecolor\":\"white\",\"minorgridcolor\":\"white\",\"startlinecolor\":\"#2a3f5f\"},\"baxis\":{\"endlinecolor\":\"#2a3f5f\",\"gridcolor\":\"white\",\"linecolor\":\"white\",\"minorgridcolor\":\"white\",\"startlinecolor\":\"#2a3f5f\"},\"type\":\"carpet\"}],\"table\":[{\"cells\":{\"fill\":{\"color\":\"#EBF0F8\"},\"line\":{\"color\":\"white\"}},\"header\":{\"fill\":{\"color\":\"#C8D4E3\"},\"line\":{\"color\":\"white\"}},\"type\":\"table\"}],\"barpolar\":[{\"marker\":{\"line\":{\"color\":\"#E5ECF6\",\"width\":0.5},\"pattern\":{\"fillmode\":\"overlay\",\"size\":10,\"solidity\":0.2}},\"type\":\"barpolar\"}],\"pie\":[{\"automargin\":true,\"type\":\"pie\"}]},\"layout\":{\"autotypenumbers\":\"strict\",\"colorway\":[\"#636efa\",\"#EF553B\",\"#00cc96\",\"#ab63fa\",\"#FFA15A\",\"#19d3f3\",\"#FF6692\",\"#B6E880\",\"#FF97FF\",\"#FECB52\"],\"font\":{\"color\":\"#2a3f5f\"},\"hovermode\":\"closest\",\"hoverlabel\":{\"align\":\"left\"},\"paper_bgcolor\":\"white\",\"plot_bgcolor\":\"#E5ECF6\",\"polar\":{\"bgcolor\":\"#E5ECF6\",\"angularaxis\":{\"gridcolor\":\"white\",\"linecolor\":\"white\",\"ticks\":\"\"},\"radialaxis\":{\"gridcolor\":\"white\",\"linecolor\":\"white\",\"ticks\":\"\"}},\"ternary\":{\"bgcolor\":\"#E5ECF6\",\"aaxis\":{\"gridcolor\":\"white\",\"linecolor\":\"white\",\"ticks\":\"\"},\"baxis\":{\"gridcolor\":\"white\",\"linecolor\":\"white\",\"ticks\":\"\"},\"caxis\":{\"gridcolor\":\"white\",\"linecolor\":\"white\",\"ticks\":\"\"}},\"coloraxis\":{\"colorbar\":{\"outlinewidth\":0,\"ticks\":\"\"}},\"colorscale\":{\"sequential\":[[0.0,\"#0d0887\"],[0.1111111111111111,\"#46039f\"],[0.2222222222222222,\"#7201a8\"],[0.3333333333333333,\"#9c179e\"],[0.4444444444444444,\"#bd3786\"],[0.5555555555555556,\"#d8576b\"],[0.6666666666666666,\"#ed7953\"],[0.7777777777777778,\"#fb9f3a\"],[0.8888888888888888,\"#fdca26\"],[1.0,\"#f0f921\"]],\"sequentialminus\":[[0.0,\"#0d0887\"],[0.1111111111111111,\"#46039f\"],[0.2222222222222222,\"#7201a8\"],[0.3333333333333333,\"#9c179e\"],[0.4444444444444444,\"#bd3786\"],[0.5555555555555556,\"#d8576b\"],[0.6666666666666666,\"#ed7953\"],[0.7777777777777778,\"#fb9f3a\"],[0.8888888888888888,\"#fdca26\"],[1.0,\"#f0f921\"]],\"diverging\":[[0,\"#8e0152\"],[0.1,\"#c51b7d\"],[0.2,\"#de77ae\"],[0.3,\"#f1b6da\"],[0.4,\"#fde0ef\"],[0.5,\"#f7f7f7\"],[0.6,\"#e6f5d0\"],[0.7,\"#b8e186\"],[0.8,\"#7fbc41\"],[0.9,\"#4d9221\"],[1,\"#276419\"]]},\"xaxis\":{\"gridcolor\":\"white\",\"linecolor\":\"white\",\"ticks\":\"\",\"title\":{\"standoff\":15},\"zerolinecolor\":\"white\",\"automargin\":true,\"zerolinewidth\":2},\"yaxis\":{\"gridcolor\":\"white\",\"linecolor\":\"white\",\"ticks\":\"\",\"title\":{\"standoff\":15},\"zerolinecolor\":\"white\",\"automargin\":true,\"zerolinewidth\":2},\"scene\":{\"xaxis\":{\"backgroundcolor\":\"#E5ECF6\",\"gridcolor\":\"white\",\"linecolor\":\"white\",\"showbackground\":true,\"ticks\":\"\",\"zerolinecolor\":\"white\",\"gridwidth\":2},\"yaxis\":{\"backgroundcolor\":\"#E5ECF6\",\"gridcolor\":\"white\",\"linecolor\":\"white\",\"showbackground\":true,\"ticks\":\"\",\"zerolinecolor\":\"white\",\"gridwidth\":2},\"zaxis\":{\"backgroundcolor\":\"#E5ECF6\",\"gridcolor\":\"white\",\"linecolor\":\"white\",\"showbackground\":true,\"ticks\":\"\",\"zerolinecolor\":\"white\",\"gridwidth\":2}},\"shapedefaults\":{\"line\":{\"color\":\"#2a3f5f\"}},\"annotationdefaults\":{\"arrowcolor\":\"#2a3f5f\",\"arrowhead\":0,\"arrowwidth\":1},\"geo\":{\"bgcolor\":\"white\",\"landcolor\":\"#E5ECF6\",\"subunitcolor\":\"white\",\"showland\":true,\"showlakes\":true,\"lakecolor\":\"white\"},\"title\":{\"x\":0.05},\"mapbox\":{\"style\":\"light\"}}},\"xaxis\":{\"anchor\":\"y\",\"domain\":[0.0,0.94],\"categoryorder\":\"array\",\"categoryarray\":[\"HCC01\",\"HCC02\",\"HCC03\",\"HCC04\",\"HCC05\",\"HCC06\",\"HCC07\",\"HCC08\",\"HCC09\",\"HCC10\"]},\"yaxis\":{\"anchor\":\"x\",\"domain\":[0.0,1.0],\"title\":{\"text\":\"Cell-type proportion\"}},\"yaxis2\":{\"anchor\":\"x\",\"overlaying\":\"y\",\"side\":\"right\",\"title\":{\"text\":\"Sample cell number\"}},\"title\":{\"text\":\"Sample cell-type summary(T/NK cell)\"},\"legend\":{\"title\":{\"text\":\"Celltype\"}},\"barmode\":\"stack\",\"width\":1200,\"height\":600},                        {\"responsive\": true}                    ).then(function(){\n",
       "                            \n",
       "var gd = document.getElementById('9d489d85-b3cc-4ca3-b2d6-2d8fd94a506b');\n",
       "var x = new MutationObserver(function (mutations, observer) {{\n",
       "        var display = window.getComputedStyle(gd).display;\n",
       "        if (!display || display === 'none') {{\n",
       "            console.log([gd, 'removed!']);\n",
       "            Plotly.purge(gd);\n",
       "            observer.disconnect();\n",
       "        }}\n",
       "}});\n",
       "\n",
       "// Listen for the removal of the full notebook cells\n",
       "var notebookContainer = gd.closest('#notebook-container');\n",
       "if (notebookContainer) {{\n",
       "    x.observe(notebookContainer, {childList: true});\n",
       "}}\n",
       "\n",
       "// Listen for the clearing of the current output cell\n",
       "var outputEl = gd.closest('.output');\n",
       "if (outputEl) {{\n",
       "    x.observe(outputEl, {childList: true});\n",
       "}}\n",
       "\n",
       "                        })                };                });            </script>        </div>"
      ]
     },
     "metadata": {},
     "output_type": "display_data"
    }
   ],
   "source": [
    "html_output_path = \"/home/bruce1996/data/LIHC_anomaly_detection/manifold_transformation/UMAP_transformation/\"\n",
    "fig_output_path = \"/home/bruce1996/data/LIHC_anomaly_detection/fig/scRNA_result/cell_summary/\"\n",
    "fig = celltype_summary_barplot(target_metadata,title=\"Sample cell-type summary(T/NK cell)\")\n",
    "fig.write_html(html_output_path + \"umap_transformation_tumor_tnk_hepatocyte_cell_summary.html\")\n",
    "fig.write_image(fig_output_path + \"umap_transformation_tumor_tnk_hepatocyte_cell_summary.png\",scale=2)\n",
    "fig.show()"
   ]
  },
  {
   "cell_type": "code",
   "execution_count": 7,
   "metadata": {},
   "outputs": [],
   "source": [
    "hgsc2ens = create_hgsc2ens_converter(\"/home/bruce1996/data/LIHC_anomaly_detection/data/coding_gene_info/ensemble_coding_gene_info.txt\")\n",
    "coding_hgsc = set(hgsc2ens.keys()).intersection(target_x.columns)\n",
    "coding_x = target_x.loc[:,coding_hgsc]\n",
    "coding_x.columns = [hgsc2ens[x] for x in coding_hgsc]"
   ]
  },
  {
   "cell_type": "code",
   "execution_count": 26,
   "metadata": {},
   "outputs": [
    {
     "data": {
      "text/plain": [
       "19419"
      ]
     },
     "execution_count": 26,
     "metadata": {},
     "output_type": "execute_result"
    }
   ],
   "source": [
    "len(hgsc2ens)"
   ]
  },
  {
   "cell_type": "code",
   "execution_count": 16,
   "metadata": {},
   "outputs": [
    {
     "name": "stdout",
     "output_type": "stream",
     "text": [
      "(14202, 1245)\n"
     ]
    }
   ],
   "source": [
    "condition = 'hbv'\n",
    "np_ratio = 35\n",
    "exp_m = pd.read_csv(\"/home/bruce1996/data/LIHC_anomaly_detection/ensemble_training/%s_only_coding_gene_std_by_gene_with_synthetic.txt\" % condition,sep='\\t',index_col=0)\n",
    "vote_number = np.load(\"/home/bruce1996/data/LIHC_anomaly_detection/ensemble_result/with_synthetic/%s_only_std_by_gene/%s_only_std_by_gene__vote_np_ratio_%s.npy\" % (condition,condition,np_ratio))\n",
    "\n",
    "vote_df = pd.DataFrame({'Vote' : vote_number},index=exp_m.index)\n",
    "vote_df = vote_df.loc[vote_df.index.str.contains(\"ENS\"),:]\n",
    "idx = np.where(vote_df['Vote'] > 0,True,False)\n",
    "coding_gene = list(vote_df.index[idx])\n",
    "embedding_df = candidate_genes_umap_transformation(coding_x,target_metadata,coding_gene)"
   ]
  },
  {
   "cell_type": "code",
   "execution_count": 23,
   "metadata": {},
   "outputs": [
    {
     "data": {
      "text/plain": [
       "<AxesSubplot:xlabel='UMAP1', ylabel='UMAP2'>"
      ]
     },
     "execution_count": 23,
     "metadata": {},
     "output_type": "execute_result"
    },
    {
     "data": {
      "image/png": "[encoded data removed]",
      "text/plain": [
       "<Figure size 864x504 with 1 Axes>"
      ]
     },
     "metadata": {
      "needs_background": "light"
     },
     "output_type": "display_data"
    }
   ],
   "source": [
    "plt.figure(figsize=(12,7))\n",
    "sns.scatterplot(data=embedding_df,x='UMAP1',y='UMAP2',hue='patient')"
   ]
  },
  {
   "cell_type": "code",
   "execution_count": 122,
   "metadata": {},
   "outputs": [],
   "source": [
    "from sklearn.cluster import KMeans\n",
    "\n",
    "x = embedding_df.iloc[:,0:2].to_numpy()\n",
    "kmeans = KMeans(n_clusters=7, random_state=0).fit(x)\n",
    "embedding_df['kmeans'] = [str(x) for x in kmeans.labels_]"
   ]
  },
  {
   "cell_type": "code",
   "execution_count": null,
   "metadata": {},
   "outputs": [],
   "source": [
    "html_output_path = \"/home/bruce1996/data/LIHC_anomaly_detection/manifold_transformation/UMAP_transformation/\"\n",
    "fig_output_path = \"/home/bruce1996/data/LIHC_anomaly_detection/fig/scRNA_result/umap_scatterplot/\"\n",
    "embedding_path = \"/home/bruce1996/data/LIHC_anomaly_detection/manifold_transformation/UMAP_transformation/\"\n",
    "for cell_type in ['hepatocyte','tnk_hepatocyte'] :\n",
    "    for condition in ['hbv','tumor'] :\n",
    "        embedding_df = pd.read_csv(embedding_path + \"umap_transformation_%s_%s.txt\" % (cell_type,condition),sep='\\t',index_col=0)\n",
    "        if condition == 'hbv' :\n",
    "            n_genes = 1410\n",
    "        else :\n",
    "            n_genes = 4328\n",
    "        #plot section\n",
    "        fig_title = \"UMAP transformation by %s-only voted gene (%d genes)\" % (condition,n_genes)\n",
    "        hue_list = ['cluster','stage','patient','virus']\n",
    "        if condition == 'hbv' :\n",
    "            n_genes = 1410\n",
    "        else :\n",
    "            n_genes = 4328\n",
    "        f, axes = plt.subplots(2, 2,figsize=(20,12))\n",
    "\n",
    "        for idx,axs in enumerate(axes.ravel()) :\n",
    "            hue = hue_list[idx]\n",
    "            sns.scatterplot(data=embedding_df,x='UMAP1',y='UMAP2',hue=hue,palette = \"Set3\",ax=axs)\n",
    "        plt.suptitle(fig_title, fontsize=16)\n",
    "        plt.tight_layout()\n",
    "        plt.savefig(fig_output_path + \"umap_transformation_tumor_%s_metadata_subplot_%s.png\" % (cell_type,condition),dpi=300,bbox_inches='tight')"
   ]
  },
  {
   "cell_type": "code",
   "execution_count": null,
   "metadata": {},
   "outputs": [],
   "source": [
    "html_output_path = \"/home/bruce1996/data/LIHC_anomaly_detection/manifold_transformation/UMAP_transformation/\"\n",
    "fig_output_path = \"/home/bruce1996/data/LIHC_anomaly_detection/fig/scRNA_result/cell_summary/\"\n",
    "embedding_path = \"/home/bruce1996/data/LIHC_anomaly_detection/manifold_transformation/UMAP_transformation/\"\n",
    "cell_type = 'hepatocyte'\n",
    "condition = 'tumor'\n",
    "for cell_type in ['hepatocyte','tnk_hepatocyte'] :\n",
    "    for condition in ['hbv','tumor'] :\n",
    "        embedding_df = pd.read_csv(embedding_path + \"umap_transformation_%s_%s.txt\" % (cell_type,condition),sep='\\t',index_col=0)\n",
    "        fig = celltype_summary_barplot(embedding_df,x='cluster',hue='stage')\n",
    "        fig.write_html(html_output_path + \"umap_transformation_%s_kmeans_stage_cell_summary_%s.html\" % (cell_type,condition))\n",
    "        fig.write_image(fig_output_path + \"umap_transformation_%s_kmeans_stage_cell_summary_%s.png\" % (cell_type,condition),scale=2)\n",
    "        fig.show()\n",
    "\n",
    "        fig = celltype_summary_barplot(embedding_df,x='cluster',hue='Advance_celltype')\n",
    "        fig.write_html(html_output_path + \"umap_transformation_%s_kmeans_celltype_cell_summary_%s.html\" % (cell_type,condition))\n",
    "        fig.write_image(fig_output_path + \"umap_transformation_%s_kmeans_celltype_cell_summary_%s.png\" % (cell_type,condition),scale=2)\n",
    "        fig.show()\n"
   ]
  },
  {
   "attachments": {},
   "cell_type": "markdown",
   "metadata": {},
   "source": [
    "### Random sample manifold transfold"
   ]
  },
  {
   "cell_type": "code",
   "execution_count": null,
   "metadata": {},
   "outputs": [],
   "source": [
    "target_x = read_and_transform(\"/home/bruce1996/data/LIHC_anomaly_detection/validation_dataset/scRNA/GSE149614_HCC_hepatocyte_normalized.pkl\")\n",
    "vote_path = \"/home/bruce1996/data/LIHC_anomaly_detection/ensemble_result/with_synthetic/\"\n",
    "metadata = pd.read_csv('/home/bruce1996/data/LIHC_anomaly_detection/validation_dataset/scRNA/GSE149614_HCC.metadata.txt',sep='\\t',index_col=0)\n",
    "n_patch = 10\n",
    "\n",
    "condition = [('tumor_only',25),('hbv_only',35)]\n",
    "for con in condition :\n",
    "    exp_m = pd.read_csv(\"/home/bruce1996/data/LIHC_anomaly_detection/ensemble_training/%s_coding_gene_std_by_gene_with_synthetic.txt\" % con[0],sep='\\t',index_col=0)\n",
    "    gene_idx = list(exp_m.index)\n",
    "    vote_result = read_vote_result(vote_path,con[0]+ '_std_by_gene',con[1],gene_idx)\n",
    "    non_voted_genes = list(vote_result.index[np.where(vote_result == 0,True,False)])\n",
    "    n_voted_genes = sum(np.where(vote_result > 0,1,0))\n",
    "    for i in range(n_patch) :\n",
    "        candidate_genes = random.sample(non_voted_genes,n_voted_genes)\n",
    "        embedding_df = candidate_genes_umap_transformation(target_x,metadata,candidate_genes)\n",
    "        title = 'UMAP projection of the GSE149614 scRNA dataset of %s non-voted gene (%d non-voted genes)' % (con[0],n_voted_genes)\n",
    "        manifold_scatterplot(embedding_df,xaxis='UMAP1',yaxis='UMAP2',hue=\"Stage\",title=title,output_path='/home/bruce1996/data/LIHC_anomaly_detection/fig/scRNA_result/random_sample_manifold_transformation/%s_non_voted_gene_patch_%d.png' % (con[0],i))\n"
   ]
  },
  {
   "attachments": {},
   "cell_type": "markdown",
   "metadata": {},
   "source": [
    "### Explode gene mean & variant "
   ]
  },
  {
   "cell_type": "code",
   "execution_count": 2,
   "metadata": {},
   "outputs": [],
   "source": [
    "with open(\"/home/bruce1996/data/LIHC_anomaly_detection/validation_dataset/scRNA/GSE149614_HCC_hepatocyte_normalized.pkl\",'rb') as f :\n",
    "    target_x = pickle.load(f)\n",
    "f.close()"
   ]
  },
  {
   "cell_type": "code",
   "execution_count": 7,
   "metadata": {},
   "outputs": [
    {
     "data": {
      "image/png": "[encoded data removed]",
      "text/plain": [
       "<Figure size 576x360 with 1 Axes>"
      ]
     },
     "metadata": {
      "needs_background": "light"
     },
     "output_type": "display_data"
    },
    {
     "data": {
      "image/png": "[encoded data removed]",
      "text/plain": [
       "<Figure size 576x360 with 1 Axes>"
      ]
     },
     "metadata": {
      "needs_background": "light"
     },
     "output_type": "display_data"
    },
    {
     "data": {
      "image/png": "[encoded data removed]",
      "text/plain": [
       "<Figure size 576x360 with 1 Axes>"
      ]
     },
     "metadata": {
      "needs_background": "light"
     },
     "output_type": "display_data"
    },
    {
     "data": {
      "image/png": "[encoded data removed]",
      "text/plain": [
       "<Figure size 576x360 with 1 Axes>"
      ]
     },
     "metadata": {
      "needs_background": "light"
     },
     "output_type": "display_data"
    }
   ],
   "source": [
    "exp_mean = target_x.T.mean()\n",
    "exp_variance = target_x.T.std()\n",
    "output_path = '/home/bruce1996/data/LIHC_anomaly_detection/fig/scRNA_result/scRNA_voted_gene_mean_variance/'\n",
    "vote_path = \"/home/bruce1996/data/LIHC_anomaly_detection/ensemble_result/with_synthetic/\"\n",
    "condition = [('tumor_only',25),('normal_only',15),('hbv_only',35),('nonhbv_only',20)]\n",
    "for con in condition :\n",
    "    exp_m = pd.read_csv(\"/home/bruce1996/data/LIHC_anomaly_detection/ensemble_training/%s_coding_gene_std_by_gene_with_synthetic.txt\" % con[0],sep='\\t',index_col=0)\n",
    "    gene_idx = list(set(exp_m.index).intersection(target_x.index))\n",
    "    vote_result = read_vote_result(vote_path,con[0]+ '_std_by_gene',con[1],list(exp_m.index))\n",
    "    vote_label = np.where(vote_result[gene_idx] > 0 ,'Voted gene','Non-voted gene')\n",
    "    n_voted_genes = sum(np.where(vote_result[gene_idx] > 0 ,1,0))\n",
    "    df = pd.DataFrame({'Vote' : vote_label,'Mean' : exp_mean[gene_idx],'Variance' : [x ** 2 for x in exp_variance[gene_idx]]},index=gene_idx)\n",
    "    plt.figure(figsize=(8,5))\n",
    "    sns.scatterplot(data=df,x='Mean',y='Variance',hue='Vote',palette='Set2')\n",
    "    plt.title(\"Gene mean & variance in GSE149614 dataset (%s,%d voted genes)\" % (con[0],n_voted_genes))\n",
    "    plt.savefig(output_path + 'gene_mean_variance_%s.png' % con[0],dpi=300)\n",
    "    plt.show()"
   ]
  },
  {
   "attachments": {},
   "cell_type": "markdown",
   "metadata": {},
   "source": [
    "### Identify marker gene from manifold cluster"
   ]
  },
  {
   "cell_type": "code",
   "execution_count": 47,
   "metadata": {},
   "outputs": [],
   "source": [
    "from scipy.stats import ranksums\n",
    "from sklearn.cluster import KMeans\n",
    "from statsmodels.sandbox.stats.multicomp import multipletests\n",
    "\n",
    "class scRNA() :\n",
    "    def __init__(self,exp_m,metadata,embedding,n_cluster) :\n",
    "        self.expression_matrix = exp_m\n",
    "        self.embedding = embedding\n",
    "        self.genelist = list(exp_m.columns)\n",
    "        self.sample = list(exp_m.index)\n",
    "        self.metadata = metadata\n",
    "        self.n_cluster = n_cluster\n",
    "        self.foldchange = [np.zeros(len(self.genelist)) for _ in range(self.n_cluster) ] \n",
    "        #self.pvalue = [np.zeros(len(self.genelist)) for _ in range(self.n_cluster) ] \n",
    "        self.rejected = [np.zeros(len(self.genelist)) for _ in range(self.n_cluster) ] \n",
    "        self.adjusted_pvalue = [np.zeros(len(self.genelist)) for _ in range(self.n_cluster) ] \n",
    "        self.market_gene_df = pd.DataFrame()\n",
    "    '''\n",
    "    def wilconox(self,condition,target,cluster_idx) :\n",
    "        if condition not in self.metadata.columns :\n",
    "            print(\"Make sure condition information in metadata\")\n",
    "            return\n",
    "        candidate = self.metadata.index[np.where(self.metadata[condition] == target,True,False)]\n",
    "        for idx,gene in enumerate(self.genelist) :\n",
    "            _,pv = ranksums(self.expression_matrix.loc[candidate,gene].values,self.expression_matrix.loc[[x not in candidate for x in self.expression_matrix.index],gene].values)\n",
    "            self.pvalue[cluster_idx][idx] = float(pv)\n",
    "    '''\n",
    "    def kmeans_clustering(self) :\n",
    "        if 'kmeans' in self.embedding.columns :\n",
    "            self.metadata['kmeans'] = self.embedding['kmeans']\n",
    "        else :\n",
    "            kmeans = KMeans(n_clusters=self.n_cluster, random_state=0).fit(self.embedding.loc[:,[\"UMAP1\",\"UMAP2\"]].to_numpy()) # type: ignore\n",
    "            label = kmeans.labels_\n",
    "            self.metadata['kmeans'] = label\n",
    "\n",
    "    def bonferroni(self,condition,target,cluster_idx) :\n",
    "        pv_list = []\n",
    "        candidate = self.metadata.index[np.where(self.metadata[condition] == target,True,False)]\n",
    "        for gene in self.genelist :\n",
    "            _,pv = ranksums(self.expression_matrix.loc[candidate,gene].values,self.expression_matrix.loc[[x not in candidate for x in self.expression_matrix.index],gene].values)\n",
    "            pv_list.append(pv)\n",
    "        self.rejected[cluster_idx],self.adjusted_pvalue[cluster_idx], _, _ = multipletests(pv_list,alpha=0.05, method='bonferroni', is_sorted=False)\n",
    "\n",
    "    def fold_change(self,condition,target,cluster_idx) :\n",
    "        candidate = self.metadata.index[np.where(self.metadata[condition] == target,True,False)]\n",
    "        for idx,gene in enumerate(self.genelist) :\n",
    "            candidate_exp = self.expression_matrix.loc[candidate,gene].mean()\n",
    "            no_candidate_exp = self.expression_matrix.loc[[x not in candidate for x in self.expression_matrix.index],gene].mean()\n",
    "            if candidate_exp == 0  :\n",
    "                self.foldchange[cluster_idx][idx] = np.inf\n",
    "            elif no_candidate_exp == 0 :\n",
    "                self.foldchange[cluster_idx][idx] = np.nan\n",
    "            else :\n",
    "                self.foldchange[cluster_idx][idx] = candidate_exp / no_candidate_exp\n",
    "    def identify_marker_gene(self) :\n",
    "        for idx,i in enumerate(self.metadata['kmeans'].unique()) :\n",
    "            print(\"Identify marker gene for clsuter %s\" % i)\n",
    "            self.bonferroni('kmeans',i,idx)\n",
    "            self.fold_change('kmeans',i,idx)\n",
    "            \n",
    "    def summarize_result(self) :\n",
    "        m = np.empty([len(self.genelist),len(self.metadata['kmeans'].unique())],dtype=object)\n",
    "        for i in range(len(self.metadata['kmeans'].unique())) :\n",
    "            rejected = self.rejected[i]\n",
    "            fold_change = self.foldchange[i]\n",
    "            idx = fold_change > 2\n",
    "            for g in range(len(self.genelist)) :\n",
    "                if rejected[g] and idx[g] :\n",
    "                    m[g,i] = 'Marker gene'\n",
    "                else :\n",
    "                    m[g,i] = 'Non marker gene'\n",
    "        df = pd.DataFrame(m,index=self.genelist,columns=['Cluster_' + str(x) for x in self.metadata['kmeans'].unique()])\n",
    "        self.market_gene_df = df"
   ]
  },
  {
   "cell_type": "code",
   "execution_count": null,
   "metadata": {},
   "outputs": [],
   "source": [
    "metadata = pd.read_csv('/home/bruce1996/data/LIHC_anomaly_detection/validation_dataset/scRNA/GSE149614_HCC.metadata.txt',sep='\\t',index_col=0)\n",
    "idx = np.where((metadata['site'] =='Tumor') & (metadata['Celltype'] =='Hepatocyte'),True,False)\n",
    "target = metadata.index[idx]\n",
    "target_metadata = metadata.loc[target,:]\n",
    "##load expression information\n",
    "condition = ['hbv_only']\n",
    "for con in condition :\n",
    "        embedding_df = pd.read_csv(\"/home/bruce1996/data/LIHC_anomaly_detection/manifold_transformation/GSE149614_scRNA_umap_transformation_%s.txt\" % con,sep='\\t',index_col=0)\n",
    "        sub_pickle_path = '/home/bruce1996/nvme2/scRNA/GSE149614_HCC_tumor_hepatocyte_%s.normalized.pickle' % con\n",
    "        with open(sub_pickle_path,'rb') as f :\n",
    "                exp_m = pickle.load(f)\n",
    "        con_scRNA = scRNA(exp_m=exp_m.astype(float),metadata=target_metadata,embedding=embedding_df,n_cluster=6)\n",
    "        con_scRNA.kmeans_clustering()\n",
    "        con_scRNA.identify_marker_gene()\n",
    "        con_scRNA.summarize_result()\n",
    "        df = con_scRNA.market_gene_df\n",
    "        df.to_csv(\"/home/bruce1996/data/LIHC_anomaly_detection/manifold_transformation/marker_gene_list_%s.txt\" % con ,sep='\\t')\n",
    "        "
   ]
  },
  {
   "cell_type": "code",
   "execution_count": 3,
   "metadata": {},
   "outputs": [],
   "source": [
    "def intersection_marker_candidate_gene(module_df,df) :\n",
    "    overlap_m = np.zeros([module_df.shape[0],df.shape[1]])\n",
    "    for go_idx,go in enumerate(module_df.index) :\n",
    "        candidate = module_df.loc[go,'Nodes'].split(\"_\")\n",
    "        for c_idx,cluster in enumerate(df.columns) :\n",
    "            marker_gene = df.index[np.where(df[cluster] == 'Marker gene',True,False)]\n",
    "            overlap_m[go_idx,c_idx] = round(100 * len(set(candidate).intersection(marker_gene)) / len(candidate),2)\n",
    "    overlap_df = pd.DataFrame(overlap_m,index=module_df.index,columns=df.columns)\n",
    "    return overlap_df\n",
    "\n",
    "def intersection_marker_candidate_gene_heatmap(intersect_m,module_df,cluster_df,con,fig_name) :\n",
    "    m_index = []\n",
    "    m_col = []\n",
    "    for go in intersect_m.index :\n",
    "        n = module_df.loc[go,'#Nodes']\n",
    "        name = module_df.loc[go,'Description']\n",
    "        m_index.append(\"%s (n=%d)\" % (name,n))\n",
    "    for cluster in intersect_m.columns :\n",
    "        n = sum(np.where(cluster_df[cluster] == 'Marker gene',True,False))\n",
    "        m_col.append(\"%s (n=%d)\" % (cluster,n))\n",
    "    \n",
    "    intersect_m.index = m_index\n",
    "    intersect_m.columns = m_col\n",
    "\n",
    "    plt.figure(figsize=(10,7))\n",
    "    sns.heatmap(intersect_m,annot=True,vmax=100,fmt=\"0.2f\",linewidths=1,cmap='PuBuGn')\n",
    "    plt.yticks(rotation=0)\n",
    "    plt.xticks(rotation=90)\n",
    "    plt.title(\"Overlap between marker genes & functional module candidate genes (%s,%s)\" % con)\n",
    "    plt.savefig(fig_name,dpi=300,bbox_inches='tight')\n"
   ]
  },
  {
   "cell_type": "code",
   "execution_count": 19,
   "metadata": {},
   "outputs": [],
   "source": [
    "def intersection_marker_marker_gene(cluster_df) :\n",
    "    overlap_m = np.zeros([cluster_df.shape[1],cluster_df.shape[1]])\n",
    "    for c1_idx,c1 in enumerate(cluster_df.columns) :\n",
    "        marker_gene1 = cluster_df.index[np.where(cluster_df[c1] == 'Marker gene',True,False)]\n",
    "        if len(marker_gene1) == 0 :\n",
    "            continue\n",
    "        for c2_idx,c2 in enumerate(cluster_df.columns) :\n",
    "            marker_gene = cluster_df.index[np.where(cluster_df[c2] == 'Marker gene',True,False)]\n",
    "            overlap_m[c1_idx,c2_idx] = round(100 * len(set(marker_gene1).intersection(marker_gene)) / len(marker_gene1),2)\n",
    "    overlap_df = pd.DataFrame(overlap_m,index=cluster_df.columns,columns=cluster_df.columns)\n",
    "    return overlap_df\n",
    "\n",
    "def intersection_marker_marker_gene_heatmap(intersect_m,cluster_df,con,fig_name) :\n",
    "    m_col = []\n",
    "    for cluster in intersect_m.columns :\n",
    "        n = sum(np.where(cluster_df[cluster] == 'Marker gene',True,False))\n",
    "        m_col.append(\"%s (n=%d)\" % (cluster,n))\n",
    "    intersect_m.index = m_col\n",
    "    intersect_m.columns = m_col \n",
    "    \n",
    "    plt.figure(figsize=(10,7))\n",
    "    sns.heatmap(intersect_m,annot=True,vmax=100,fmt=\"0.2f\",linewidths=1,cmap='PuBuGn')\n",
    "    plt.yticks(rotation=0)\n",
    "    plt.xticks(rotation=90)\n",
    "    plt.title(\"Overlap between marker genes & functional module candidate genes (%s)\" % con)\n",
    "    plt.savefig(fig_name,dpi=300,bbox_inches='tight')\n"
   ]
  },
  {
   "cell_type": "code",
   "execution_count": null,
   "metadata": {},
   "outputs": [],
   "source": [
    "sheet_list = ['hbv_only_20','nonhbv_only_20','tumor_only_25','normal_only_15']\n",
    "for ppi_network in ['GRN','PIN'] :\n",
    "    for sheet in sheet_list :\n",
    "        con = sheet.split('_')[0]\n",
    "        module_df = pd.read_excel(\"/home/bruce1996/data/LIHC_anomaly_detection/functional_profiling/final_functional_module/Summary_table_of_%s_FunModu.xlsx\" % ppi_network, sheet_name=sheet,index_col=1)\n",
    "        cluster_df = pd.read_csv(\"/home/bruce1996/data/LIHC_anomaly_detection/manifold_transformation/marker_gene_list_%s.txt\" % con ,sep='\\t',index_col=0)\n",
    "        fig_path = \"/home/bruce1996/data/LIHC_anomaly_detection/fig/scRNA_marker_gene/\"\n",
    "        if os.path.exists(fig_path) == False :\n",
    "            os.mkdir(fig_path)\n",
    "        fig_name = \"%s_%s_funModu_overlap_heatmap.png\" % (con,ppi_network)\n",
    "        m = intersection_marker_candidate_gene(module_df,df)\n",
    "        intersection_marker_candidate_gene_heatmap(m,module_df,cluster_df,(con,ppi_network),fig_name)\n"
   ]
  }
 ],
 "metadata": {
  "kernelspec": {
   "display_name": "base",
   "language": "python",
   "name": "python3"
  },
  "language_info": {
   "codemirror_mode": {
    "name": "ipython",
    "version": 3
   },
   "file_extension": ".py",
   "mimetype": "text/x-python",
   "name": "python",
   "nbconvert_exporter": "python",
   "pygments_lexer": "ipython3",
   "version": "3.9.7"
  },
  "orig_nbformat": 4
 },
 "nbformat": 4,
 "nbformat_minor": 2
}
