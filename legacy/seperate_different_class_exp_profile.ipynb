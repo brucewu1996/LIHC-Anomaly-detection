{
 "cells": [
  {
   "cell_type": "code",
   "execution_count": 1,
   "metadata": {},
   "outputs": [],
   "source": [
    "import numpy as np\n",
    "import pandas as pd\n",
    "import os \n",
    "import re"
   ]
  },
  {
   "cell_type": "code",
   "execution_count": 12,
   "metadata": {},
   "outputs": [],
   "source": [
    "normal_profile = pd.read_csv('/home/bruce1996/data/LIHC_anomaly_detection/raw_data/LIHC_normal_coding_gene_fpkm.txt',sep='\\t',index_col=0)\n",
    "tumor_profile = pd.read_csv('/home/bruce1996/data/LIHC_anomaly_detection/raw_data/LIHC_tumor_coding_gene_fpkm.txt',sep='\\t',index_col=0)\n",
    "metadata = pd.read_csv('/home/bruce1996/data/LIHC_anomaly_detection/data/sample_info/sample_info_df.txt',sep='\\t',index_col=0)\n"
   ]
  },
  {
   "cell_type": "code",
   "execution_count": 26,
   "metadata": {},
   "outputs": [],
   "source": [
    "exp_profile = pd.concat([tumor_profile,normal_profile],axis=1)\n",
    "hbv_id = metadata[metadata['HBV'] == 'Negative']['Sample'].values\n",
    "nonhbv_exp_profile = exp_profile.loc[:,hbv_id]\n",
    "nonhbv_exp_profile.to_csv(\"/home/bruce1996/data/LIHC_anomaly_detection/raw_data/LIHC_nohbv_coding_gene_fpkm.txt\")"
   ]
  },
  {
   "cell_type": "code",
   "execution_count": 3,
   "metadata": {},
   "outputs": [],
   "source": [
    "from sklearn.preprocessing import StandardScaler\n",
    "\n",
    "def standardization(df) :\n",
    "    scaler = StandardScaler()\n",
    "    x  = df.T.to_numpy()\n",
    "    X = scaler.fit_transform(x)\n",
    "    stand_df = pd.DataFrame(X.T,index=df.index,columns=df.columns)\n",
    "    return stand_df"
   ]
  },
  {
   "cell_type": "code",
   "execution_count": 29,
   "metadata": {},
   "outputs": [],
   "source": [
    "hbv_std_exp_profile = standardization(hbv_exp_profile)\n",
    "nonhbv_std_exp_profile = standardization(nonhbv_exp_profile)"
   ]
  },
  {
   "cell_type": "code",
   "execution_count": 30,
   "metadata": {},
   "outputs": [],
   "source": [
    "hbv_std_exp_profile.to_csv('/home/bruce1996/data/LIHC_anomaly_detection/data/exp_profile/lihc_protein_coding_gene_std_exp_profile_hbv_only.txt',sep='\\t')\n",
    "nonhbv_std_exp_profile.to_csv('/home/bruce1996/data/LIHC_anomaly_detection/data/exp_profile/lihc_protein_coding_gene_std_exp_profile_nonhbv_only.txt',sep='\\t')"
   ]
  },
  {
   "cell_type": "code",
   "execution_count": null,
   "metadata": {},
   "outputs": [],
   "source": []
  }
 ],
 "metadata": {
  "kernelspec": {
   "display_name": "base",
   "language": "python",
   "name": "python3"
  },
  "language_info": {
   "codemirror_mode": {
    "name": "ipython",
    "version": 3
   },
   "file_extension": ".py",
   "mimetype": "text/x-python",
   "name": "python",
   "nbconvert_exporter": "python",
   "pygments_lexer": "ipython3",
   "version": "3.9.7"
  },
  "orig_nbformat": 4,
  "vscode": {
   "interpreter": {
    "hash": "a8896aeeaae841fc56cce69c301eafccebd52b5f2e2c78be19122259dda01972"
   }
  }
 },
 "nbformat": 4,
 "nbformat_minor": 2
}
