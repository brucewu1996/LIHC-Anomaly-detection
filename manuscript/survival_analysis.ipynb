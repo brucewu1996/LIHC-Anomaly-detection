{
 "cells": [
  {
   "cell_type": "code",
   "execution_count": 3,
   "metadata": {},
   "outputs": [],
   "source": [
    "import numpy as np\n",
    "import pandas as pd\n",
    "import re,os\n",
    "import matplotlib.pyplot as plt\n",
    "import seaborn as sns"
   ]
  },
  {
   "cell_type": "markdown",
   "metadata": {},
   "source": [
    "### Pre-processing TCGA-LIHC survival information"
   ]
  },
  {
   "cell_type": "code",
   "execution_count": 125,
   "metadata": {},
   "outputs": [],
   "source": [
    "clinical_file = pd.read_csv(\"/home/bruce1996/data/LIHC_anomaly_detection/data/sample_info/tmp.txt\",sep='\\t',index_col=0)\n",
    "clinical_file = clinical_file.iloc[1:,:]\n",
    "clinical_file.index = clinical_file['patient_id']\n",
    "survival_col = ['vital_status','days_to_initial_pathologic_diagnosis','days_to_death','days_to_last_followup','pathologic_stage','gender','age_at_initial_pathologic_diagnosis','race','viral_hepatitis_serology']\n",
    "survival_data = clinical_file.loc[:,survival_col]\n",
    "survival_data['HBV'] = np.where([re.search('Hepatitis B Surface Antigen',x) for x in survival_data['viral_hepatitis_serology']],'Positive','Negative')"
   ]
  },
  {
   "cell_type": "code",
   "execution_count": 126,
   "metadata": {},
   "outputs": [],
   "source": [
    "include_idx = survival_data['days_to_initial_pathologic_diagnosis'] == '0'\n",
    "exclude_patient = list(survival_data.index[~include_idx])\n",
    "survival_data = survival_data.loc[include_idx,:].copy()\n",
    "### exclude crterion : both days_to_death & days_to_followup is missing value\n",
    "#change days_to_death/days_to_last_followup to numeric\n",
    "def numeric_survival(r) :\n",
    "    if 'Not' not in r['days_to_death'] :\n",
    "        return int(r['days_to_death'])\n",
    "    else :\n",
    "        return int(r['days_to_last_followup'])\n",
    "\n",
    "survival_data['Survival_day'] = survival_data.apply(numeric_survival,axis=1)\n",
    "# Status == True means patient dead in study period,else is False\n",
    "survival_data['Status'] = np.where(survival_data['vital_status'] == 'Dead','Dead','Alive')\n",
    "include_idx = np.where(survival_data['Survival_day'] > 0,True,False)\n",
    "survival_data = survival_data.loc[include_idx,:].copy()\n"
   ]
  },
  {
   "cell_type": "code",
   "execution_count": 127,
   "metadata": {},
   "outputs": [],
   "source": [
    "# Merge tumor stage subclass in main stage\n",
    "stage_d = {'[Discrepancy]': 'Not Available',\n",
    "              '[Not Available]': 'Not Available',\n",
    "              'Stage I': 'Stage I',\n",
    "              'Stage II': 'Stage II',\n",
    "              'Stage IIIA': 'Stage III',\n",
    "              'Stage IIIB': 'Stage III',\n",
    "              'Stage IIIC': 'Stage III',\n",
    "              'Stage IV': 'Stage IV',\n",
    "              'Stage III': 'Stage III',\n",
    "              'Stage IVB': 'Stage IV',\n",
    "              'Stage IVA': 'Stage IV'}\n",
    "survival_data['Stage'] = survival_data['pathologic_stage'].map(stage_d)"
   ]
  },
  {
   "cell_type": "code",
   "execution_count": 92,
   "metadata": {},
   "outputs": [
    {
     "name": "stderr",
     "output_type": "stream",
     "text": [
      "/tmp/ipykernel_1791724/1289045465.py:10: SettingWithCopyWarning: \n",
      "A value is trying to be set on a copy of a slice from a DataFrame\n",
      "\n",
      "See the caveats in the documentation: https://pandas.pydata.org/pandas-docs/stable/user_guide/indexing.html#returning-a-view-versus-a-copy\n",
      "  survival_value['Status'][idx] = 'Alive'\n",
      "/tmp/ipykernel_1791724/1289045465.py:7: SettingWithCopyWarning: \n",
      "A value is trying to be set on a copy of a slice from a DataFrame\n",
      "\n",
      "See the caveats in the documentation: https://pandas.pydata.org/pandas-docs/stable/user_guide/indexing.html#returning-a-view-versus-a-copy\n",
      "  survival_value['Survival_day'][idx] = day_5_years\n"
     ]
    }
   ],
   "source": [
    "#5 years survival\n",
    "survival_value = survival_data.loc[:,['Status','Survival_day']]\n",
    "day_5_years = (365 * 5 + 1)\n",
    "for idx in range(survival_value.shape[0]) :\n",
    "    # live more than 5 years \n",
    "    if survival_value['Status'][idx] == 'Alive' and survival_value['Survival_day'][idx] > day_5_years :\n",
    "        survival_value['Survival_day'][idx] = day_5_years\n",
    "    # live more than 5 years but dead after 5 years\n",
    "    elif survival_value['Status'][idx] == 'Dead' and survival_value['Survival_day'][idx] > day_5_years :\n",
    "        survival_value['Status'][idx] = 'Alive'\n",
    "\n",
    "survival_input = pd.concat([survival_value,survival_data.loc[:,['Stage','gender','age_at_initial_pathologic_diagnosis','race','HBV']]],axis=1)\n",
    "survival_input.rename(columns={'gender' : 'Gender','age_at_initial_pathologic_diagnosis':'Age'},inplace=True)\n",
    "survival_input.to_csv('/home/bruce1996/data/LIHC_anomaly_detection/survival_analysis/tcga_lihc_survival_info.txt',sep='\\t')"
   ]
  },
  {
   "cell_type": "markdown",
   "metadata": {},
   "source": [
    "### Merge gene expression and survival information\n",
    "\n",
    "* processing of merge gene expression and survival information\n",
    "1. Standardize gene expression. (Patient tumor sample only)\n",
    "2. Read functional module information.\n",
    "3. Extract module gene expression.\n",
    "4. Convert gene name from ens accession number to gene symbol.\n",
    "5. Merge survival infor and gene expression."
   ]
  },
  {
   "cell_type": "code",
   "execution_count": 137,
   "metadata": {},
   "outputs": [],
   "source": [
    "from sklearn.preprocessing import StandardScaler\n",
    "import pickle"
   ]
  },
  {
   "cell_type": "code",
   "execution_count": 138,
   "metadata": {},
   "outputs": [],
   "source": [
    "def edge2node(edge_context) :\n",
    "    '''\n",
    "    edge_list : str, like 'ENSG00000115415 ENSG00000138496_ENSG00000115415 ENSG00000168961_ENSG00000115415, underline as seperator\n",
    "    '''\n",
    "    edge_l = edge_context.split('_')\n",
    "    node_l = set(list(map(lambda x : x.split(' ')[0],edge_l)) + list(map(lambda x : x.split(' ')[1],edge_l)))\n",
    "    return list(node_l)"
   ]
  },
  {
   "cell_type": "code",
   "execution_count": 139,
   "metadata": {},
   "outputs": [],
   "source": [
    "exp_df = pd.read_csv(\"/home/bruce1996/data/LIHC_anomaly_detection/data/exp_profile/LIHC_coding_gene_fpkm.txt\",sep='\\t',index_col=0)\n",
    "sample_idx = [bool(re.search('_n',x)) == False for x in exp_df.columns]\n",
    "exp_m = exp_df.loc[:,sample_idx]\n",
    "del exp_df\n",
    "samples = set(survival_input.index).intersection(exp_m.columns)\n",
    "#standardization\n",
    "scaler = StandardScaler()\n",
    "std_x = scaler.fit_transform(exp_m.T.to_numpy())\n",
    "std_m = pd.DataFrame(std_x,index=exp_m.columns,columns=exp_m.index)"
   ]
  },
  {
   "cell_type": "code",
   "execution_count": 100,
   "metadata": {},
   "outputs": [],
   "source": [
    "with open(\"/home/bruce1996/data/LIHC_anomaly_detection/data/coding_gene_info/ensembl2hgnc.pkl\",'rb') as f :\n",
    "    ens2hgsc = pickle.load(f)\n",
    "f.close()"
   ]
  },
  {
   "cell_type": "code",
   "execution_count": 141,
   "metadata": {},
   "outputs": [],
   "source": [
    "ppi = 'GRN'\n",
    "output_path = \"/home/bruce1996/data/LIHC_anomaly_detection/survival_analysis/5year_survival_input_with_hbv/zscore/lihc_%s_hbv_only_35/\" % ppi\n",
    "module_excel = pd.ExcelFile(\"/home/bruce1996/data/LIHC_anomaly_detection/functional_profiling/candidate_functional_module/Summary_table_of_%s_FunModu.xlsx\" % ppi)\n",
    "module_summary = pd.read_excel(module_excel,sheet_name='hbv_only_35')\n",
    "for idx in range(module_summary.shape[0]) :\n",
    "    go = module_summary['GOID'][idx]\n",
    "    des = module_summary['Description'][idx].replace(' ','-')\n",
    "    gene_list = edge2node(module_summary['Edges'][idx])\n",
    "    module_m = std_m.loc[samples,gene_list]\n",
    "    module_m.rename(columns=ens2hgsc,inplace=True)\n",
    "    survival_m = pd.concat([survival_input.loc[samples,:],module_m],axis=1)\n",
    "    if os.path.exists(output_path) == False :\n",
    "        os.mkdir(output_path)\n",
    "    survival_m.to_csv(output_path + go + '_' + des + '.txt',sep='\\t')"
   ]
  },
  {
   "cell_type": "code",
   "execution_count": 142,
   "metadata": {},
   "outputs": [],
   "source": [
    "# separate survival data into HBV / non-HBV group\n",
    "output_path = \"/home/bruce1996/data/LIHC_anomaly_detection/survival_analysis/tcga_lihc_survival_input/zscore/\"\n",
    "metadata = pd.read_csv(\"/home/bruce1996/data/LIHC_anomaly_detection/data/sample_info/sample_info_df.txt\",sep='\\t',index_col=0)\n",
    "metadata.index = metadata['Sample']\n",
    "for ppi in ['PIN','GRN'] :\n",
    "    survival_input_path = \"/home/bruce1996/data/LIHC_anomaly_detection/survival_analysis/5year_survival_input_with_hbv/zscore/lihc_%s_hbv_only_35/\" % ppi\n",
    "    file_list = os.listdir(survival_input_path)\n",
    "    for file in file_list :\n",
    "        df = pd.read_csv(survival_input_path + file,sep='\\t',index_col=0)\n",
    "        hbv_idx = metadata.index[np.where(metadata['HBV'] == 'Positive',True,False)]\n",
    "        hbv_samples = list(set(hbv_idx).intersection(df.index))\n",
    "        non_hbv_samples = list(set(df.index) - set(hbv_samples))\n",
    "        if os.path.exists(output_path + 'HBV/%s/' % ppi) == False :\n",
    "            os.mkdir(output_path + 'HBV/%s/' % ppi)\n",
    "        if os.path.exists(output_path + 'non-HBV/%s/' % ppi) == False :\n",
    "            os.mkdir(output_path + 'non-HBV/%s/' % ppi)\n",
    "        df.loc[hbv_samples,:].to_csv(output_path + 'HBV/%s/%s' % (ppi,file),sep='\\t')\n",
    "        df.loc[non_hbv_samples,:].to_csv(output_path + 'non-HBV/%s/%s' % (ppi,file),sep='\\t')"
   ]
  },
  {
   "cell_type": "markdown",
   "metadata": {},
   "source": [
    "### MHC class expression in TCGA-LIHC HBV group"
   ]
  },
  {
   "cell_type": "code",
   "execution_count": 1,
   "metadata": {},
   "outputs": [],
   "source": [
    "from statannot import add_stat_annotation"
   ]
  },
  {
   "cell_type": "code",
   "execution_count": 4,
   "metadata": {},
   "outputs": [],
   "source": [
    "input_path = \"/home/bruce1996/data/LIHC_anomaly_detection/survival_analysis/tcga_candidate_module/\"\n",
    "module_name = \"GO:0019885_antigen-processing-and-presentation-of-endogenous-peptide-antigen-via-MHC-class-I.txt\"\n",
    "survival_matrix = pd.read_csv(input_path + module_name,sep='\\t',index_col=0)"
   ]
  },
  {
   "cell_type": "code",
   "execution_count": 7,
   "metadata": {},
   "outputs": [
    {
     "name": "stdout",
     "output_type": "stream",
     "text": [
      "p-value annotation legend:\n",
      "ns: 5.00e-02 < p <= 1.00e+00\n",
      "*: 1.00e-02 < p <= 5.00e-02\n",
      "**: 1.00e-03 < p <= 1.00e-02\n",
      "***: 1.00e-04 < p <= 1.00e-03\n",
      "****: p <= 1.00e-04\n",
      "\n",
      "HLA.A_Low risk v.s. HLA.A_High risk: Mann-Whitney-Wilcoxon test two-sided with Bonferroni correction, P_val=1.182e-01 U_stat=1.038e+03\n",
      "B2M_Low risk v.s. B2M_High risk: Mann-Whitney-Wilcoxon test two-sided with Bonferroni correction, P_val=1.000e+00 U_stat=1.462e+03\n",
      "HLA.B_Low risk v.s. HLA.B_High risk: Mann-Whitney-Wilcoxon test two-sided with Bonferroni correction, P_val=1.000e+00 U_stat=1.267e+03\n",
      "HLA.C_Low risk v.s. HLA.C_High risk: Mann-Whitney-Wilcoxon test two-sided with Bonferroni correction, P_val=1.957e-03 U_stat=8.370e+02\n",
      "TAP1_Low risk v.s. TAP1_High risk: Mann-Whitney-Wilcoxon test two-sided with Bonferroni correction, P_val=2.016e-01 U_stat=1.071e+03\n",
      "TAP2_Low risk v.s. TAP2_High risk: Mann-Whitney-Wilcoxon test two-sided with Bonferroni correction, P_val=3.237e-08 U_stat=4.800e+02\n"
     ]
    },
    {
     "data": {
      "image/png": "[encoded data removed]",
      "text/plain": [
       "<Figure size 720x360 with 1 Axes>"
      ]
     },
     "metadata": {
      "needs_background": "light"
     },
     "output_type": "display_data"
    }
   ],
   "source": [
    "plot_df = survival_matrix.iloc[:,7:].melt(id_vars='risk')\n",
    "plot_df.columns = [\"Risk\",\"Gene\",\"Value\"]\n",
    "plot_df.sort_values(by='Gene',inplace=True)\n",
    "x_order = list(plot_df['Gene'].unique())\n",
    "\n",
    "plt.figure(figsize=(10,5))\n",
    "ax = sns.boxplot(data=plot_df,x='Gene',y='Value',hue='Risk',palette='Set2',order=x_order,hue_order=['Low risk','High risk'],showfliers=True)\n",
    "plt.ylabel(\"Gene expression z-score\")\n",
    "box_pairs =  [((gene, 'Low risk'), (gene, 'High risk')) for gene in plot_df['Gene'].unique()]\n",
    "add_stat_annotation(ax, data=plot_df, x='Gene', y='Value',hue='Risk', order=x_order,\n",
    "                    box_pairs=box_pairs,test='Mann-Whitney',verbose=1)\n",
    "plt.title(\"MHC class I antigen presentation related gene expression in %d TCGA-LIHC HBV-positive patients\" % survival_matrix.shape[0])\n",
    "plt.savefig(input_path + module_name.replace('txt','png'),dpi=300,bbox_inches='tight')"
   ]
  },
  {
   "cell_type": "code",
   "execution_count": 8,
   "metadata": {},
   "outputs": [],
   "source": [
    "input_path = \"/home/bruce1996/data/LIHC_anomaly_detection/survival_analysis/5year_survival_input_with_hbv/zscore/lihc_PIN_hbv_only_35/\"\n",
    "module_name = \"GO:0019885_antigen-processing-and-presentation-of-endogenous-peptide-antigen-via-MHC-class-I.txt\"\n",
    "survival_matrix = pd.read_csv(input_path + module_name,sep='\\t',index_col=0)"
   ]
  },
  {
   "cell_type": "code",
   "execution_count": 14,
   "metadata": {},
   "outputs": [
    {
     "name": "stdout",
     "output_type": "stream",
     "text": [
      "p-value annotation legend:\n",
      "ns: 5.00e-02 < p <= 1.00e+00\n",
      "*: 1.00e-02 < p <= 5.00e-02\n",
      "**: 1.00e-03 < p <= 1.00e-02\n",
      "***: 1.00e-04 < p <= 1.00e-03\n",
      "****: p <= 1.00e-04\n",
      "\n",
      "HLA-A_Negative v.s. HLA-A_Positive: Mann-Whitney-Wilcoxon test two-sided with Bonferroni correction, P_val=6.791e-02 U_stat=1.350e+04\n",
      "B2M_Negative v.s. B2M_Positive: Mann-Whitney-Wilcoxon test two-sided with Bonferroni correction, P_val=1.000e+00 U_stat=1.252e+04\n",
      "HLA-B_Negative v.s. HLA-B_Positive: Mann-Whitney-Wilcoxon test two-sided with Bonferroni correction, P_val=1.000e+00 U_stat=1.214e+04\n",
      "HLA-C_Negative v.s. HLA-C_Positive: Mann-Whitney-Wilcoxon test two-sided with Bonferroni correction, P_val=7.100e-01 U_stat=1.273e+04\n",
      "TAP1_Negative v.s. TAP1_Positive: Mann-Whitney-Wilcoxon test two-sided with Bonferroni correction, P_val=1.000e+00 U_stat=1.231e+04\n",
      "TAP2_Negative v.s. TAP2_Positive: Mann-Whitney-Wilcoxon test two-sided with Bonferroni correction, P_val=1.000e+00 U_stat=1.254e+04\n"
     ]
    },
    {
     "data": {
      "image/png": "[encoded data removed]",
      "text/plain": [
       "<Figure size 720x360 with 1 Axes>"
      ]
     },
     "metadata": {
      "needs_background": "light"
     },
     "output_type": "display_data"
    }
   ],
   "source": [
    "plot_df = survival_matrix.iloc[:,6:].melt(id_vars='HBV')\n",
    "plot_df.columns = [\"HBV\",\"Gene\",\"Value\"]\n",
    "plot_df.sort_values(by='Gene',inplace=True)\n",
    "x_order = list(plot_df['Gene'].unique())\n",
    "\n",
    "plt.figure(figsize=(10,5))\n",
    "ax = sns.boxplot(data=plot_df,x='Gene',y='Value',hue='HBV',palette='Set2',order=x_order,hue_order=['Negative','Positive'],showfliers=True)\n",
    "plt.ylabel(\"Gene expression z-score\")\n",
    "box_pairs =  [((gene, 'Negative'), (gene, 'Positive')) for gene in plot_df['Gene'].unique()]\n",
    "add_stat_annotation(ax, data=plot_df, x='Gene', y='Value',hue='HBV', order=x_order,\n",
    "                    box_pairs=box_pairs,test='Mann-Whitney',verbose=1)\n",
    "plt.title(\"MHC class I antigen presentation related gene expression in %d TCGA-LIHC patients\" % survival_matrix.shape[0])\n",
    "output_path = \"/home/bruce1996/data/LIHC_anomaly_detection/survival_analysis/tcga_candidate_module/\"\n",
    "plt.savefig(output_path + module_name.replace('.txt','-between-hbv.png'),dpi=300,bbox_inches='tight')"
   ]
  },
  {
   "cell_type": "code",
   "execution_count": null,
   "metadata": {},
   "outputs": [],
   "source": []
  }
 ],
 "metadata": {
  "kernelspec": {
   "display_name": "base",
   "language": "python",
   "name": "python3"
  },
  "language_info": {
   "codemirror_mode": {
    "name": "ipython",
    "version": 3
   },
   "file_extension": ".py",
   "mimetype": "text/x-python",
   "name": "python",
   "nbconvert_exporter": "python",
   "pygments_lexer": "ipython3",
   "version": "3.9.7"
  },
  "orig_nbformat": 4
 },
 "nbformat": 4,
 "nbformat_minor": 2
}
