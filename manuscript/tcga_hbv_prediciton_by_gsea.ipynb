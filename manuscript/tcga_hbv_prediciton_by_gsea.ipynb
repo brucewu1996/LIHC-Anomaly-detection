{
 "cells": [
  {
   "cell_type": "code",
   "execution_count": 26,
   "metadata": {},
   "outputs": [],
   "source": [
    "import numpy as np\n",
    "import pandas as pd\n",
    "import matplotlib.pyplot as plt\n",
    "import seaborn as sns\n",
    "import sys,pickle\n",
    "sys.path.append(\"/home/bruce1996/repo/LIHC_anomaly_detection/\")\n",
    "from utils.gsea import *"
   ]
  },
  {
   "cell_type": "markdown",
   "metadata": {},
   "source": [
    "### pre-processing"
   ]
  },
  {
   "cell_type": "code",
   "execution_count": 3,
   "metadata": {},
   "outputs": [],
   "source": [
    "from sklearn.preprocessing import StandardScaler"
   ]
  },
  {
   "cell_type": "code",
   "execution_count": 4,
   "metadata": {},
   "outputs": [],
   "source": [
    "exp_m = pd.read_csv(\"/home/bruce1996/data/LIHC_anomaly_detection/data/exp_profile/LIHC_coding_gene_fpkm.txt\",sep='\\t',index_col=0)\n",
    "metadata = pd.read_csv(\"/home/bruce1996/data/LIHC_anomaly_detection/data/sample_info/sample_info_df.txt\",sep='\\t',index_col=0)\n",
    "vote = pd.read_csv(\"/home/bruce1996/data/LIHC_anomaly_detection/manuscript/material/ensemble_learning_result/ensemble_hbv_only_np_ratio_35_vote_result.txt\",sep='\\t',index_col=0)\n",
    "voted_gene = list(set(vote.index[vote['Vote'] > 0]).intersection(exp_m.index))\n",
    "non_voted_gene = list(set(exp_m.index) - set(voted_gene))"
   ]
  },
  {
   "cell_type": "code",
   "execution_count": 5,
   "metadata": {},
   "outputs": [],
   "source": [
    "samples = metadata['Sample'][np.where((metadata['Label'] == 'Tumor'),True,False)]\n",
    "target_m = exp_m.loc[:,samples]\n",
    "metadata = metadata.loc[np.where((metadata['Label'] == 'Tumor'),True,False),:]\n",
    "y = np.where(metadata['HBV'] =='Positive',1,0)\n",
    "scaler = StandardScaler()\n",
    "std_x = scaler.fit_transform(target_m.T.to_numpy())\n",
    "std_m = pd.DataFrame(std_x,index=target_m.columns,columns = target_m.index).T"
   ]
  },
  {
   "cell_type": "markdown",
   "metadata": {},
   "source": [
    "### Single sample GSEA processing"
   ]
  },
  {
   "cell_type": "code",
   "execution_count": 6,
   "metadata": {},
   "outputs": [],
   "source": [
    "def edge2node(edge_context) :\n",
    "    '''\n",
    "    edge_list : str, like 'ENSG00000115415 ENSG00000138496_ENSG00000115415 ENSG00000168961_ENSG00000115415, underline as seperator\n",
    "    '''\n",
    "    edge_l = edge_context.split('_')\n",
    "    node_l = set(list(map(lambda x : x.split(' ')[0],edge_l)) + list(map(lambda x : x.split(' ')[1],edge_l)))\n",
    "    return list(node_l)"
   ]
  },
  {
   "cell_type": "code",
   "execution_count": 23,
   "metadata": {},
   "outputs": [],
   "source": [
    "vote_m = std_m.loc[voted_gene,:]\n",
    "ppi = 'GRN'\n",
    "module_excel = pd.ExcelFile(\"/home/bruce1996/data/LIHC_anomaly_detection/manuscript/material/functional_module_summary/Summary_table_of_%s_FunModu.xlsx\" % ppi)\n",
    "module_info = pd.read_excel(module_excel,sheet_name='hbv_only_35')\n",
    "module_gene_dict = dict(zip(module_info['Description'],[edge2node(module_info['Edges'][idx]) for idx in range(module_info.shape[0])]))"
   ]
  },
  {
   "cell_type": "code",
   "execution_count": null,
   "metadata": {},
   "outputs": [],
   "source": [
    "sample_gsea_res = {}\n",
    "for idx,sample in enumerate(vote_m.columns) :\n",
    "    print(\"%d st single sample GSEA for single : %s\" % (idx,sample))\n",
    "    gene_ranking = list(vote_m[sample].sort_values(ascending=False).index)\n",
    "    sample_gsea = gene_set_enrichment_analysis(cluster_component=module_gene_dict,ranking=gene_ranking)\n",
    "    sample_gsea.gsea()\n",
    "    sample_gsea_res[sample] = sample_gsea\n",
    "\n",
    "es_z_matrix = np.zeros([len(sample_gsea_res),len(sample_gsea_res['AACV'].cluster_component)],dtype=np.float16)\n",
    "for idx,sample in enumerate(sample_gsea_res.keys()) :\n",
    "    tmp = sample_gsea_res[sample]\n",
    "    es_zscore = (tmp.es_score_median - tmp.es_score) / tmp.es_score_std\n",
    "    es_z_matrix[idx,:] = es_zscore\n",
    "es_z_df = pd.DataFrame(es_z_matrix,index=list(sample_gsea_res.keys()),columns=list(sample_gsea_res['AACV'].cluster_component.keys()))\n",
    "es_z_df.to_csv(\"/home/bruce1996/data/LIHC_anomaly_detection/manuscript/material/module_gene_hbv_prediction/%s_module_single_sample_gsea_zscore.txt\" % ppi,sep='\\t')"
   ]
  },
  {
   "cell_type": "markdown",
   "metadata": {},
   "source": [
    "### Prediction HBV status by module GSEA z-score"
   ]
  },
  {
   "cell_type": "code",
   "execution_count": 29,
   "metadata": {},
   "outputs": [],
   "source": [
    "from sklearn.model_selection import cross_validate\n",
    "from sklearn.linear_model import LogisticRegression\n",
    "from sklearn.svm import SVC\n",
    "from sklearn.ensemble import RandomForestClassifier"
   ]
  },
  {
   "cell_type": "code",
   "execution_count": 27,
   "metadata": {},
   "outputs": [],
   "source": [
    "grn_gsea_z = pd.read_csv(\"/home/bruce1996/data/LIHC_anomaly_detection/manuscript/material/module_gene_hbv_prediction/%s_module_single_sample_gsea_zscore.txt\" % 'GRN',sep='\\t',index_col=0)\n",
    "pin_gsea_z = pd.read_csv(\"/home/bruce1996/data/LIHC_anomaly_detection/manuscript/material/module_gene_hbv_prediction/%s_module_single_sample_gsea_zscore.txt\" % 'PIN',sep='\\t',index_col=0)\n",
    "es_z_df = pd.concat([grn_gsea_z,pin_gsea_z],axis=1)"
   ]
  },
  {
   "cell_type": "code",
   "execution_count": null,
   "metadata": {},
   "outputs": [],
   "source": [
    "metrices = ['accuracy',\"f1\",\"precision\",\"recall\"]\n",
    "clf_dict = {'LogisticRegression' : LogisticRegression(max_iter=2000),'SVM' : SVC(),'RandomForest' : RandomForestClassifier()}\n",
    "clf_metric = {'LogisticRegression' : pd.DataFrame(np.zeros([10,4]),columns=metrices),\n",
    "              'SVM' : pd.DataFrame(np.zeros([10,4]),columns=metrices),\n",
    "              'RandomForest' : pd.DataFrame(np.zeros([10,4]),columns=metrices)}\n",
    "\n",
    "x = es_z_df.loc[metadata['Sample'],:].to_numpy()\n",
    "y = np.where(metadata['HBV'] =='Positive',1,0)\n",
    "for clf_name,clf in clf_dict.items() :\n",
    "    cv_res = cross_validate(clf,x,y,cv=10,scoring=metrices)\n",
    "    for metric in metrices :\n",
    "        clf_metric[clf_name][metric] = cv_res[\"test_\" + metric]\n",
    "tmp = pd.DataFrame()\n",
    "for clf_name,df in clf_metric.items() :\n",
    "    df['Classifier'] = [clf_name] * df.shape[0]\n",
    "    tmp = pd.concat([tmp,df])\n",
    "plot_df = tmp.melt(id_vars='Classifier')\n"
   ]
  },
  {
   "cell_type": "code",
   "execution_count": 41,
   "metadata": {},
   "outputs": [
    {
     "data": {
      "image/png": "[encoded data removed]",
      "text/plain": [
       "<Figure size 576x360 with 1 Axes>"
      ]
     },
     "metadata": {
      "needs_background": "light"
     },
     "output_type": "display_data"
    }
   ],
   "source": [
    "plot_df.columns = ['Classifier','Measurement','Value']\n",
    "plt.figure(figsize=(8,5))\n",
    "sns.boxenplot(data=plot_df,x='Classifier',y='Value',hue='Measurement',palette='Set2')\n",
    "plt.ylim([0,1])\n",
    "plt.title(\"HBV prediction by module single sample GSEA z-score\")\n",
    "plt.savefig(\"/home/bruce1996/data/LIHC_anomaly_detection/manuscript/material/module_gene_hbv_prediction/module_single_sample_gsea_zscore.png\",dpi=300)"
   ]
  },
  {
   "cell_type": "code",
   "execution_count": null,
   "metadata": {},
   "outputs": [],
   "source": []
  }
 ],
 "metadata": {
  "kernelspec": {
   "display_name": "base",
   "language": "python",
   "name": "python3"
  },
  "language_info": {
   "codemirror_mode": {
    "name": "ipython",
    "version": 3
   },
   "file_extension": ".py",
   "mimetype": "text/x-python",
   "name": "python",
   "nbconvert_exporter": "python",
   "pygments_lexer": "ipython3",
   "version": "3.9.7"
  },
  "orig_nbformat": 4
 },
 "nbformat": 4,
 "nbformat_minor": 2
}
