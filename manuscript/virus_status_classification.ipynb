{
 "cells": [
  {
   "cell_type": "code",
   "execution_count": 2,
   "metadata": {},
   "outputs": [],
   "source": [
    "import numpy as np\n",
    "import pandas as pd\n",
    "import xgboost as xgb"
   ]
  },
  {
   "cell_type": "code",
   "execution_count": 3,
   "metadata": {},
   "outputs": [],
   "source": [
    "import pickle\n",
    "\n",
    "with open(\"/home/bruce1996/nvme2/scRNA/GSE149614_overall_normalized.pkl\",'rb') as f :\n",
    "    scRNA_exp_m = pickle.load(f)\n",
    "f.close()\n",
    "\n",
    "with open(\"/home/bruce1996/data/LIHC_anomaly_detection/data/coding_gene_info/ensembl2hgnc.pkl\",'rb') as f :\n",
    "    tmp = pickle.load(f)\n",
    "f.close()\n",
    "hgnc2ens = {}\n",
    "for ens,hgnc in tmp.items() :\n",
    "    if isinstance(hgnc,str) :\n",
    "        hgnc2ens[hgnc] = ens\n",
    "ens2hgnc = {v:key for key,v in hgnc2ens.items()}\n",
    "metadata = pd.read_csv('/home/bruce1996/data/LIHC_anomaly_detection/validation_dataset/scRNA/GSE149614_HCC.metadata.txt',sep='\\t',index_col=0)"
   ]
  },
  {
   "cell_type": "code",
   "execution_count": null,
   "metadata": {},
   "outputs": [],
   "source": [
    "idx = metadata.index[np.where((metadata['Celltype'] == 'Hepatocyte') & (metadata['site'] == 'Tumor'),True,False)]\n",
    "exp_m = scRNA_exp_m.loc[:,idx]\n",
    "metadata = metadata.loc[idx,:]\n",
    "\n",
    "del scRNA_exp_m\n",
    "coding_gene = set(exp_m.index).intersection(hgnc2ens.keys())\n",
    "coding_m = exp_m.loc[coding_gene,:]\n",
    "coding_m.index = [hgnc2ens[x] for x in coding_m.index]"
   ]
  },
  {
   "cell_type": "code",
   "execution_count": null,
   "metadata": {},
   "outputs": [],
   "source": [
    "with open(\"/home/bruce1996/nvme2/scRNA/GSE149614_coding_gene_hepatocyte_normalized.pkl\",'wb') as f :\n",
    "    pickle.dump(coding_m,f)\n",
    "f.close()\n",
    "\n",
    "vote = pd.read_csv(\"/home/bruce1996/data/LIHC_anomaly_detection/manuscript/material/ensemble_learning_result/ensemble_hbv_only_np_ratio_35_vote_result.txt\",sep='\\t',index_col=0)\n",
    "voted_gene = list(set(vote.index[vote['Vote'] > 0]).intersection(coding_m.index))\n",
    "voted_exp_m = coding_m.loc[voted_gene,:]"
   ]
  }
 ],
 "metadata": {
  "kernelspec": {
   "display_name": "base",
   "language": "python",
   "name": "python3"
  },
  "language_info": {
   "codemirror_mode": {
    "name": "ipython",
    "version": 3
   },
   "file_extension": ".py",
   "mimetype": "text/x-python",
   "name": "python",
   "nbconvert_exporter": "python",
   "pygments_lexer": "ipython3",
   "version": "3.9.7"
  },
  "orig_nbformat": 4
 },
 "nbformat": 4,
 "nbformat_minor": 2
}
